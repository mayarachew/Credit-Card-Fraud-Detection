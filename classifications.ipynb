{
 "cells": [
  {
   "cell_type": "markdown",
   "metadata": {},
   "source": [
    "# Credit card fraud detection"
   ]
  },
  {
   "cell_type": "markdown",
   "metadata": {},
   "source": [
    "## Imports"
   ]
  },
  {
   "cell_type": "code",
   "execution_count": 1,
   "metadata": {},
   "outputs": [],
   "source": [
    "# Dataset\n",
    "import pandas as pd\n",
    "\n",
    "# Vectorizing and spliting\n",
    "from sklearn.model_selection import train_test_split\n",
    "\n",
    "# Classifications\n",
    "from sklearn.svm import SVC\n",
    "from sklearn.model_selection import train_test_split\n",
    "from sklearn.naive_bayes import MultinomialNB\n",
    "from sklearn.ensemble import RandomForestClassifier\n",
    "from sklearn.svm import SVC\n",
    "\n",
    "# Preprocessing\n",
    "from sklearn.preprocessing import MinMaxScaler\n",
    "\n",
    "from functions.create_classifier import create_classifier, plot_confusion_matrix \n",
    "from functions.test_hyperparameters import test_hyperparameters \n",
    "from functions.balance_dataset import balance_dataset \n",
    "\n",
    "import plotly.graph_objects as go\n",
    "from plotly.subplots import make_subplots\n",
    "from PIL import Image\n",
    "\n",
    "import warnings\n",
    "warnings.filterwarnings(\"ignore\")"
   ]
  },
  {
   "cell_type": "markdown",
   "metadata": {},
   "source": [
    "## Read files"
   ]
  },
  {
   "cell_type": "code",
   "execution_count": null,
   "metadata": {},
   "outputs": [
    {
     "name": "stdout",
     "output_type": "stream",
     "text": [
      "Archive:  data/creditcard.zip\n",
      "  inflating: data/creditcard.csv     \n"
     ]
    }
   ],
   "source": [
    "!unzip 'data/creditcard.zip' -d 'data'"
   ]
  },
  {
   "cell_type": "code",
   "execution_count": 4,
   "metadata": {},
   "outputs": [],
   "source": [
    "df = pd.read_csv(\"data/creditcard.csv\")"
   ]
  },
  {
   "cell_type": "code",
   "execution_count": 5,
   "metadata": {},
   "outputs": [],
   "source": [
    "X_pca_df = df.drop(['Time', 'Class', 'Amount'], axis=1)[:8000]\n",
    "y_pca_df = df['Class'][:8000]"
   ]
  },
  {
   "cell_type": "code",
   "execution_count": 6,
   "metadata": {},
   "outputs": [
    {
     "data": {
      "text/plain": [
       "0    0.996875\n",
       "1    0.003125\n",
       "Name: Class, dtype: float64"
      ]
     },
     "execution_count": 6,
     "metadata": {},
     "output_type": "execute_result"
    }
   ],
   "source": [
    "y_pca_df.value_counts(normalize=True)"
   ]
  },
  {
   "cell_type": "markdown",
   "metadata": {},
   "source": [
    "## Balance dataset"
   ]
  },
  {
   "cell_type": "markdown",
   "metadata": {},
   "source": [
    "Define not balanced dataset"
   ]
  },
  {
   "cell_type": "code",
   "execution_count": 7,
   "metadata": {},
   "outputs": [],
   "source": [
    "X_pca_not_balanced_03 = X_pca_df\n",
    "y_pca_not_balanced_03 = y_pca_df"
   ]
  },
  {
   "cell_type": "markdown",
   "metadata": {},
   "source": [
    "Define balanced dataset"
   ]
  },
  {
   "cell_type": "code",
   "execution_count": 8,
   "metadata": {},
   "outputs": [],
   "source": [
    "X_pca_balanced_1, y_pca_balanced_1 = balance_dataset(X_pca_df, y_pca_df, 0.011)   # 1%  fraud\n",
    "X_pca_balanced_10, y_pca_balanced_10 = balance_dataset(X_pca_df, y_pca_df, 0.112) # 10% fraud\n",
    "X_pca_balanced_20, y_pca_balanced_20 = balance_dataset(X_pca_df, y_pca_df, 0.251) # 20% fraud\n",
    "X_pca_balanced_30, y_pca_balanced_30 = balance_dataset(X_pca_df, y_pca_df, 0.43)  # 30% fraud\n",
    "X_pca_balanced_40, y_pca_balanced_40 = balance_dataset(X_pca_df, y_pca_df, 0.667) # 40% fraud\n",
    "X_pca_balanced_50, y_pca_balanced_50 = balance_dataset(X_pca_df, y_pca_df, 1)     # 50% fraud"
   ]
  },
  {
   "cell_type": "code",
   "execution_count": 9,
   "metadata": {},
   "outputs": [
    {
     "data": {
      "text/plain": [
       "0    0.989209\n",
       "1    0.010791\n",
       "Name: Class, dtype: float64"
      ]
     },
     "execution_count": 9,
     "metadata": {},
     "output_type": "execute_result"
    }
   ],
   "source": [
    "y_pca_balanced_1.value_counts(normalize=True)"
   ]
  },
  {
   "cell_type": "markdown",
   "metadata": {},
   "source": [
    "## Split dataset"
   ]
  },
  {
   "cell_type": "code",
   "execution_count": 10,
   "metadata": {},
   "outputs": [
    {
     "name": "stdout",
     "output_type": "stream",
     "text": [
      "X_train.shape (11962, 28)\n",
      "X_test.shape (3988, 28)\n"
     ]
    }
   ],
   "source": [
    "X_pca_not_balanced_03_train, X_pca_not_balanced_03_test, y_pca_not_balanced_03_train, y_pca_not_balanced_03_test = train_test_split(X_pca_not_balanced_03, y_pca_not_balanced_03, test_size=0.25, random_state=0)\n",
    "\n",
    "X_pca_balanced_1_train,  X_pca_balanced_1_test,  y_pca_balanced_1_train,  y_pca_balanced_1_test  = train_test_split(X_pca_balanced_1,  y_pca_balanced_1, test_size=0.25, random_state=0)\n",
    "X_pca_balanced_10_train, X_pca_balanced_10_test, y_pca_balanced_10_train, y_pca_balanced_10_test = train_test_split(X_pca_balanced_10, y_pca_balanced_10, test_size=0.25, random_state=0)\n",
    "X_pca_balanced_20_train, X_pca_balanced_20_test, y_pca_balanced_20_train, y_pca_balanced_20_test = train_test_split(X_pca_balanced_20, y_pca_balanced_20, test_size=0.25, random_state=0)\n",
    "X_pca_balanced_30_train, X_pca_balanced_30_test, y_pca_balanced_30_train, y_pca_balanced_30_test = train_test_split(X_pca_balanced_30, y_pca_balanced_30, test_size=0.25, random_state=0)\n",
    "X_pca_balanced_40_train, X_pca_balanced_40_test, y_pca_balanced_40_train, y_pca_balanced_40_test = train_test_split(X_pca_balanced_40, y_pca_balanced_40, test_size=0.25, random_state=0)\n",
    "X_pca_balanced_50_train, X_pca_balanced_50_test, y_pca_balanced_50_train, y_pca_balanced_50_test = train_test_split(X_pca_balanced_50, y_pca_balanced_50, test_size=0.25, random_state=0)\n",
    "\n",
    "print('X_train.shape', X_pca_balanced_50_train.shape)\n",
    "print('X_test.shape', X_pca_balanced_50_test.shape)"
   ]
  },
  {
   "cell_type": "markdown",
   "metadata": {},
   "source": [
    "## Classifications"
   ]
  },
  {
   "cell_type": "markdown",
   "metadata": {},
   "source": [
    "### Normalize data for Naive Bayes"
   ]
  },
  {
   "cell_type": "code",
   "execution_count": 13,
   "metadata": {},
   "outputs": [],
   "source": [
    "scaler = MinMaxScaler()\n",
    "\n",
    "X_pca_not_balanced_03_train_normalized = scaler.fit(X_pca_not_balanced_03_train).transform(X_pca_not_balanced_03_train)\n",
    "X_pca_not_balanced_03_test_normalized = scaler.fit(X_pca_not_balanced_03_test).transform(X_pca_not_balanced_03_test)\n",
    "\n",
    "X_pca_balanced_1_train_normalized = scaler.fit(X_pca_balanced_1_train).transform(X_pca_balanced_1_train)\n",
    "X_pca_balanced_1_test_normalized = scaler.fit(X_pca_balanced_1_test).transform(X_pca_balanced_1_test)\n",
    "\n",
    "X_pca_balanced_10_train_normalized = scaler.fit(X_pca_balanced_10_train).transform(X_pca_balanced_10_train)\n",
    "X_pca_balanced_10_test_normalized = scaler.fit(X_pca_balanced_10_test).transform(X_pca_balanced_10_test)\n",
    "\n",
    "X_pca_balanced_20_train_normalized = scaler.fit(X_pca_balanced_20_train).transform(X_pca_balanced_20_train)\n",
    "X_pca_balanced_20_test_normalized = scaler.fit(X_pca_balanced_20_test).transform(X_pca_balanced_20_test)\n",
    "\n",
    "X_pca_balanced_30_train_normalized = scaler.fit(X_pca_balanced_30_train).transform(X_pca_balanced_30_train)\n",
    "X_pca_balanced_30_test_normalized = scaler.fit(X_pca_balanced_30_test).transform(X_pca_balanced_30_test)\n",
    "\n",
    "X_pca_balanced_40_train_normalized = scaler.fit(X_pca_balanced_40_train).transform(X_pca_balanced_40_train)\n",
    "X_pca_balanced_40_test_normalized = scaler.fit(X_pca_balanced_40_test).transform(X_pca_balanced_40_test)\n",
    "\n",
    "X_pca_balanced_50_train_normalized = scaler.fit(X_pca_balanced_50_train).transform(X_pca_balanced_50_train)\n",
    "X_pca_balanced_50_test_normalized = scaler.fit(X_pca_balanced_50_test).transform(X_pca_balanced_50_test)"
   ]
  },
  {
   "cell_type": "markdown",
   "metadata": {},
   "source": [
    "### Test Hyperparameters"
   ]
  },
  {
   "cell_type": "markdown",
   "metadata": {},
   "source": [
    "#### PCA unbalanced (0.3% fraud)"
   ]
  },
  {
   "cell_type": "code",
   "execution_count": null,
   "metadata": {},
   "outputs": [],
   "source": [
    "test_hyperparameters('Naive Bayes', X_pca_not_balanced_03_train_normalized,\n",
    "                     y_pca_not_balanced_03_train, 'X_pca_not_balanced_03')\n",
    "test_hyperparameters('Support Vector Machine', X_pca_not_balanced_03_train,\n",
    "                     y_pca_not_balanced_03_train, 'X_pca_not_balanced_03')\n",
    "test_hyperparameters('Random Forest', X_pca_not_balanced_03_train,\n",
    "                     y_pca_not_balanced_03_train, 'X_pca_not_balanced_03')\n",
    "\n",
    "## Results\n",
    "# Best hyperparameters for Naive Bayes: {'alpha': 1}\n",
    "# Best hyperparameters for Support Vector Machine: {'C': 1, 'kernel': 'poly'}\n",
    "# Best hyperparameters for Random Forest: {'criterion': 'gini', 'max_depth': 3, 'max_features': 'auto', 'n_estimators': 100}"
   ]
  },
  {
   "cell_type": "markdown",
   "metadata": {},
   "source": [
    "#### PCA unbalanced (1% fraud)"
   ]
  },
  {
   "cell_type": "code",
   "execution_count": null,
   "metadata": {},
   "outputs": [],
   "source": [
    "test_hyperparameters('Naive Bayes', X_pca_balanced_1_train_normalized,\n",
    "                     y_pca_balanced_1_train, 'X_pca_balanced_1')\n",
    "test_hyperparameters('Support Vector Machine', X_pca_balanced_1_train,\n",
    "                     y_pca_balanced_1_train, 'X_pca_balanced_1')\n",
    "test_hyperparameters('Random Forest', X_pca_balanced_1_train,\n",
    "                     y_pca_balanced_1_train, 'X_pca_balanced_1')\n",
    "\n",
    "## Results\n",
    "# Best hyperparameters for Naive Bayes: {'alpha': 1}\n",
    "# Best hyperparameters for Support Vector Machine: {'C': 1, 'kernel': 'linear'}\n",
    "# Best hyperparameters for Random Forest: {'criterion': 'gini', 'max_depth': 5, 'max_features': 'auto', 'n_estimators': 100}"
   ]
  },
  {
   "cell_type": "markdown",
   "metadata": {},
   "source": [
    "#### PCA unbalanced (10% fraud)"
   ]
  },
  {
   "cell_type": "code",
   "execution_count": null,
   "metadata": {},
   "outputs": [],
   "source": [
    "test_hyperparameters('Naive Bayes', X_pca_balanced_10_train_normalized,\n",
    "                     y_pca_balanced_10_train, 'X_pca_balanced_10')\n",
    "test_hyperparameters('Support Vector Machine', X_pca_balanced_10_train,\n",
    "                     y_pca_balanced_10_train, 'X_pca_balanced_10')\n",
    "test_hyperparameters('Random Forest', X_pca_balanced_10_train,\n",
    "                     y_pca_balanced_10_train, 'X_pca_balanced_10')\n",
    "\n",
    "## Results\n",
    "# Best hyperparameters for Naive Bayes: {'alpha': 1}\n",
    "# Best hyperparameters for Support Vector Machine: {'C': 1, 'kernel': 'rbf'}\n",
    "# Best hyperparameters for Random Forest: {'criterion': 'gini', 'max_depth': 5, 'max_features': 'auto', 'n_estimators': 100}"
   ]
  },
  {
   "cell_type": "markdown",
   "metadata": {},
   "source": [
    "#### PCA unbalanced (20% fraud)"
   ]
  },
  {
   "cell_type": "code",
   "execution_count": null,
   "metadata": {},
   "outputs": [],
   "source": [
    "test_hyperparameters('Naive Bayes', X_pca_balanced_20_train_normalized,\n",
    "                     y_pca_balanced_20_train, 'X_pca_balanced_20')\n",
    "test_hyperparameters('Support Vector Machine', X_pca_balanced_20_train,\n",
    "                     y_pca_balanced_20_train, 'X_pca_balanced_20')\n",
    "test_hyperparameters('Random Forest', X_pca_balanced_20_train,\n",
    "                     y_pca_balanced_20_train, 'X_pca_balanced_20')\n",
    "\n",
    "## Results\n",
    "# Best hyperparameters for Naive Bayes: {'alpha': 1}\n",
    "# Best hyperparameters for Support Vector Machine: {'C': 1, 'kernel': 'rbf'}\n",
    "# Best hyperparameters for Random Forest: {'criterion': 'gini', 'max_depth': 3, 'max_features': 'auto', 'n_estimators': 100}"
   ]
  },
  {
   "cell_type": "markdown",
   "metadata": {},
   "source": [
    "#### PCA unbalanced (30% fraud)"
   ]
  },
  {
   "cell_type": "code",
   "execution_count": null,
   "metadata": {},
   "outputs": [],
   "source": [
    "\n",
    "test_hyperparameters('Naive Bayes', X_pca_balanced_30_train_normalized,\n",
    "                     y_pca_balanced_30_train, 'X_pca_balanced_30')\n",
    "test_hyperparameters('Support Vector Machine', X_pca_balanced_30_train,\n",
    "                     y_pca_balanced_30_train, 'X_pca_balanced_30')\n",
    "test_hyperparameters('Random Forest', X_pca_balanced_30_train,\n",
    "                     y_pca_balanced_30_train, 'X_pca_balanced_30')\n",
    "\n",
    "## Results\n",
    "# Best hyperparameters for Naive Bayes: {'alpha': 1}\n",
    "# Best hyperparameters for Support Vector Machine: {'C': 1, 'kernel': 'rbf'}\n",
    "# Best hyperparameters for Random Forest: {'criterion': 'gini', 'max_depth': 3, 'max_features': 'auto', 'n_estimators': 100}"
   ]
  },
  {
   "cell_type": "markdown",
   "metadata": {},
   "source": [
    "#### PCA unbalanced (40% fraud)"
   ]
  },
  {
   "cell_type": "code",
   "execution_count": null,
   "metadata": {},
   "outputs": [],
   "source": [
    "test_hyperparameters('Naive Bayes', X_pca_balanced_40_train_normalized,\n",
    "                     y_pca_balanced_40_train, 'X_pca_balanced_40')\n",
    "test_hyperparameters('Support Vector Machine', X_pca_balanced_40_train,\n",
    "                     y_pca_balanced_40_train, 'X_pca_balanced_40')\n",
    "test_hyperparameters('Random Forest', X_pca_balanced_40_train,\n",
    "                     y_pca_balanced_40_train, 'X_pca_balanced_40')\n",
    "\n",
    "## Results\n",
    "# Best hyperparameters for Naive Bayes: {'alpha': 1}\n",
    "# Best hyperparameters for Support Vector Machine: {'C': 100, 'kernel': 'poly'}\n",
    "# Best hyperparameters for Random Forest: {'criterion': 'gini', 'max_depth': 3, 'max_features': 'auto', 'n_estimators': 100}"
   ]
  },
  {
   "cell_type": "markdown",
   "metadata": {},
   "source": [
    "#### PCA unbalanced (50% fraud)"
   ]
  },
  {
   "cell_type": "code",
   "execution_count": null,
   "metadata": {},
   "outputs": [],
   "source": [
    "test_hyperparameters('Naive Bayes', X_pca_balanced_50_train_normalized,\n",
    "                     y_pca_balanced_50_train, 'X_pca_balanced_50')\n",
    "test_hyperparameters('Support Vector Machine', X_pca_balanced_50_train,\n",
    "                     y_pca_balanced_50_train, 'X_pca_balanced_50')\n",
    "test_hyperparameters('Random Forest', X_pca_balanced_50_train,\n",
    "                     y_pca_balanced_50_train, 'X_pca_balanced_50')\n",
    "## Results\n",
    "# Best hyperparameters for Naive Bayes: {'alpha': 1}\n",
    "# Best hyperparameters for Support Vector Machine: {'C': 10, 'kernel': 'rbf'}\n",
    "# Best hyperparameters for Random Forest: {'criterion': 'gini', 'max_depth': 3, 'max_features': 'auto', 'n_estimators': 100}"
   ]
  },
  {
   "cell_type": "markdown",
   "metadata": {},
   "source": [
    "### Classification\n",
    "\n",
    "- Support Vector Machine\n",
    "- Random Forest\n",
    "- Naive Bayes"
   ]
  },
  {
   "cell_type": "markdown",
   "metadata": {},
   "source": [
    "#### PCA unbalanced (0.3% fraud)\n"
   ]
  },
  {
   "cell_type": "markdown",
   "metadata": {},
   "source": [
    "Naive Bayes"
   ]
  },
  {
   "cell_type": "code",
   "execution_count": 14,
   "metadata": {},
   "outputs": [
    {
     "name": "stdout",
     "output_type": "stream",
     "text": [
      "Classification report: \n",
      "              precision    recall  f1-score   support\n",
      "\n",
      "           0       0.99      1.00      1.00      1988\n",
      "           1       1.00      0.00      0.00        12\n",
      "\n",
      "    accuracy                           0.99      2000\n",
      "   macro avg       1.00      0.50      0.50      2000\n",
      "weighted avg       0.99      0.99      0.99      2000\n",
      "\n",
      "Confusion Matrix: \n"
     ]
    },
    {
     "data": {
      "image/png": "[encoded data removed]",
      "text/plain": [
       "<Figure size 432x288 with 2 Axes>"
      ]
     },
     "metadata": {
      "needs_background": "light"
     },
     "output_type": "display_data"
    }
   ],
   "source": [
    "nb_clf = MultinomialNB(alpha=1)\n",
    "\n",
    "y_pred = create_classifier(nb_clf, X_pca_not_balanced_03_train_normalized, y_pca_not_balanced_03_train, \n",
    "                          X_pca_not_balanced_03_test_normalized, y_pca_not_balanced_03_test)\n",
    "\n",
    "print('Confusion Matrix: ')\n",
    "plot_confusion_matrix(nb_clf, X_pca_not_balanced_03_test_normalized, y_pca_not_balanced_03_test)"
   ]
  },
  {
   "cell_type": "markdown",
   "metadata": {},
   "source": [
    "Support Vector Machine"
   ]
  },
  {
   "cell_type": "code",
   "execution_count": 22,
   "metadata": {},
   "outputs": [
    {
     "name": "stdout",
     "output_type": "stream",
     "text": [
      "Classification report: \n",
      "              precision    recall  f1-score   support\n",
      "\n",
      "           0       1.00      1.00      1.00      1988\n",
      "           1       0.90      0.75      0.82        12\n",
      "\n",
      "    accuracy                           1.00      2000\n",
      "   macro avg       0.95      0.87      0.91      2000\n",
      "weighted avg       1.00      1.00      1.00      2000\n",
      "\n",
      "Confusion Matrix: \n"
     ]
    },
    {
     "data": {
      "image/png": "[encoded data removed]",
      "text/plain": [
       "<Figure size 432x288 with 2 Axes>"
      ]
     },
     "metadata": {
      "needs_background": "light"
     },
     "output_type": "display_data"
    }
   ],
   "source": [
    "svm_clf = SVC(kernel='poly', C=1)\n",
    "\n",
    "y_pred = create_classifier(svm_clf, X_pca_not_balanced_03_train, y_pca_not_balanced_03_train, \n",
    "                          X_pca_not_balanced_03_test, y_pca_not_balanced_03_test)\n",
    "                          \n",
    "print('Confusion Matrix: ')\n",
    "plot_confusion_matrix(svm_clf, X_pca_not_balanced_03_test, y_pca_not_balanced_03_test)"
   ]
  },
  {
   "cell_type": "markdown",
   "metadata": {},
   "source": [
    "Random Forest"
   ]
  },
  {
   "cell_type": "code",
   "execution_count": 23,
   "metadata": {},
   "outputs": [
    {
     "name": "stdout",
     "output_type": "stream",
     "text": [
      "Classification report: \n",
      "              precision    recall  f1-score   support\n",
      "\n",
      "           0       1.00      1.00      1.00      1988\n",
      "           1       1.00      0.67      0.80        12\n",
      "\n",
      "    accuracy                           1.00      2000\n",
      "   macro avg       1.00      0.83      0.90      2000\n",
      "weighted avg       1.00      1.00      1.00      2000\n",
      "\n",
      "Confusion Matrix: \n"
     ]
    },
    {
     "data": {
      "image/png": "[encoded data removed]",
      "text/plain": [
       "<Figure size 432x288 with 2 Axes>"
      ]
     },
     "metadata": {
      "needs_background": "light"
     },
     "output_type": "display_data"
    }
   ],
   "source": [
    "rf_clf = RandomForestClassifier(n_estimators=100, max_features='auto', max_depth=3, criterion='gini')\n",
    "\n",
    "y_pred = create_classifier(rf_clf, X_pca_not_balanced_03_train, y_pca_not_balanced_03_train, \n",
    "                          X_pca_not_balanced_03_test, y_pca_not_balanced_03_test)\n",
    "\n",
    "print('Confusion Matrix: ')\n",
    "plot_confusion_matrix(rf_clf, X_pca_not_balanced_03_test, y_pca_not_balanced_03_test)"
   ]
  },
  {
   "cell_type": "markdown",
   "metadata": {},
   "source": [
    "#### PCA balanced (1% fraud)"
   ]
  },
  {
   "cell_type": "markdown",
   "metadata": {},
   "source": [
    "Naive Bayes"
   ]
  },
  {
   "cell_type": "code",
   "execution_count": 15,
   "metadata": {},
   "outputs": [
    {
     "name": "stdout",
     "output_type": "stream",
     "text": [
      "Classification report: \n",
      "              precision    recall  f1-score   support\n",
      "\n",
      "           0       0.99      1.00      0.99      1995\n",
      "           1       1.00      0.00      0.00        21\n",
      "\n",
      "    accuracy                           0.99      2016\n",
      "   macro avg       0.99      0.50      0.50      2016\n",
      "weighted avg       0.99      0.99      0.98      2016\n",
      "\n",
      "Confusion Matrix: \n"
     ]
    },
    {
     "data": {
      "image/png": "[encoded data removed]",
      "text/plain": [
       "<Figure size 432x288 with 2 Axes>"
      ]
     },
     "metadata": {
      "needs_background": "light"
     },
     "output_type": "display_data"
    }
   ],
   "source": [
    "nb_clf = MultinomialNB(alpha=1)\n",
    "\n",
    "y_pred = create_classifier(nb_clf, X_pca_balanced_1_train_normalized, y_pca_balanced_1_train, \n",
    "                          X_pca_balanced_1_test_normalized, y_pca_balanced_1_test)\n",
    "\n",
    "print('Confusion Matrix: ')\n",
    "plot_confusion_matrix(nb_clf, X_pca_balanced_1_test_normalized, y_pca_balanced_1_test)"
   ]
  },
  {
   "cell_type": "markdown",
   "metadata": {},
   "source": [
    "Support Vector Machine"
   ]
  },
  {
   "cell_type": "code",
   "execution_count": 17,
   "metadata": {},
   "outputs": [
    {
     "name": "stdout",
     "output_type": "stream",
     "text": [
      "Classification report: \n",
      "              precision    recall  f1-score   support\n",
      "\n",
      "           0       1.00      1.00      1.00      1995\n",
      "           1       0.81      1.00      0.89        21\n",
      "\n",
      "    accuracy                           1.00      2016\n",
      "   macro avg       0.90      1.00      0.95      2016\n",
      "weighted avg       1.00      1.00      1.00      2016\n",
      "\n",
      "Confusion Matrix: \n"
     ]
    },
    {
     "data": {
      "image/png": "[encoded data removed]",
      "text/plain": [
       "<Figure size 432x288 with 2 Axes>"
      ]
     },
     "metadata": {
      "needs_background": "light"
     },
     "output_type": "display_data"
    }
   ],
   "source": [
    "svm_clf = SVC(kernel='linear', C=1)\n",
    "\n",
    "y_pred = create_classifier(svm_clf, X_pca_balanced_1_train, y_pca_balanced_1_train, \n",
    "                          X_pca_balanced_1_test, y_pca_balanced_1_test)\n",
    "\n",
    "print('Confusion Matrix: ')\n",
    "plot_confusion_matrix(svm_clf, X_pca_balanced_1_test, y_pca_balanced_1_test)"
   ]
  },
  {
   "cell_type": "markdown",
   "metadata": {},
   "source": [
    "Random Forest"
   ]
  },
  {
   "cell_type": "code",
   "execution_count": 18,
   "metadata": {},
   "outputs": [
    {
     "name": "stdout",
     "output_type": "stream",
     "text": [
      "Classification report: \n",
      "              precision    recall  f1-score   support\n",
      "\n",
      "           0       1.00      1.00      1.00      1995\n",
      "           1       1.00      1.00      1.00        21\n",
      "\n",
      "    accuracy                           1.00      2016\n",
      "   macro avg       1.00      1.00      1.00      2016\n",
      "weighted avg       1.00      1.00      1.00      2016\n",
      "\n",
      "Confusion Matrix: \n"
     ]
    },
    {
     "data": {
      "image/png": "[encoded data removed]",
      "text/plain": [
       "<Figure size 432x288 with 2 Axes>"
      ]
     },
     "metadata": {
      "needs_background": "light"
     },
     "output_type": "display_data"
    }
   ],
   "source": [
    "rf_clf = RandomForestClassifier(n_estimators=100, max_features='auto', max_depth=5, criterion='gini')\n",
    "\n",
    "y_pred = create_classifier(rf_clf, X_pca_balanced_1_train, y_pca_balanced_1_train, \n",
    "                          X_pca_balanced_1_test, y_pca_balanced_1_test)\n",
    "\n",
    "print('Confusion Matrix: ')\n",
    "plot_confusion_matrix(rf_clf, X_pca_balanced_1_test, y_pca_balanced_1_test)"
   ]
  },
  {
   "cell_type": "markdown",
   "metadata": {},
   "source": [
    "#### PCA balanced (10% fraud)"
   ]
  },
  {
   "cell_type": "markdown",
   "metadata": {},
   "source": [
    "Naive Bayes"
   ]
  },
  {
   "cell_type": "code",
   "execution_count": 19,
   "metadata": {},
   "outputs": [
    {
     "name": "stdout",
     "output_type": "stream",
     "text": [
      "Classification report: \n",
      "              precision    recall  f1-score   support\n",
      "\n",
      "           0       0.91      1.00      0.95      2008\n",
      "           1       1.00      0.04      0.07       209\n",
      "\n",
      "    accuracy                           0.91      2217\n",
      "   macro avg       0.95      0.52      0.51      2217\n",
      "weighted avg       0.92      0.91      0.87      2217\n",
      "\n",
      "Confusion Matrix: \n"
     ]
    },
    {
     "data": {
      "image/png": "[encoded data removed]",
      "text/plain": [
       "<Figure size 432x288 with 2 Axes>"
      ]
     },
     "metadata": {
      "needs_background": "light"
     },
     "output_type": "display_data"
    }
   ],
   "source": [
    "nb_clf = MultinomialNB(alpha=1)\n",
    "\n",
    "y_pred = create_classifier(nb_clf, X_pca_balanced_10_train_normalized, y_pca_balanced_10_train, \n",
    "                          X_pca_balanced_10_test_normalized, y_pca_balanced_10_test)\n",
    "\n",
    "print('Confusion Matrix: ')\n",
    "plot_confusion_matrix(nb_clf, X_pca_balanced_10_test_normalized, y_pca_balanced_10_test)"
   ]
  },
  {
   "cell_type": "markdown",
   "metadata": {},
   "source": [
    "Support Vector Machine"
   ]
  },
  {
   "cell_type": "code",
   "execution_count": 20,
   "metadata": {},
   "outputs": [
    {
     "name": "stdout",
     "output_type": "stream",
     "text": [
      "Classification report: \n",
      "              precision    recall  f1-score   support\n",
      "\n",
      "           0       1.00      1.00      1.00      2008\n",
      "           1       1.00      1.00      1.00       209\n",
      "\n",
      "    accuracy                           1.00      2217\n",
      "   macro avg       1.00      1.00      1.00      2217\n",
      "weighted avg       1.00      1.00      1.00      2217\n",
      "\n",
      "Confusion Matrix: \n"
     ]
    },
    {
     "data": {
      "image/png": "[encoded data removed]",
      "text/plain": [
       "<Figure size 432x288 with 2 Axes>"
      ]
     },
     "metadata": {
      "needs_background": "light"
     },
     "output_type": "display_data"
    }
   ],
   "source": [
    "svm_clf = SVC(kernel='rbf', C=1)\n",
    "\n",
    "y_pred = create_classifier(svm_clf, X_pca_balanced_10_train, y_pca_balanced_10_train, \n",
    "                          X_pca_balanced_10_test, y_pca_balanced_10_test)\n",
    "\n",
    "print('Confusion Matrix: ')\n",
    "plot_confusion_matrix(svm_clf, X_pca_balanced_10_test, y_pca_balanced_10_test)"
   ]
  },
  {
   "cell_type": "markdown",
   "metadata": {},
   "source": [
    "Random Forest"
   ]
  },
  {
   "cell_type": "code",
   "execution_count": 21,
   "metadata": {},
   "outputs": [
    {
     "name": "stdout",
     "output_type": "stream",
     "text": [
      "Classification report: \n",
      "              precision    recall  f1-score   support\n",
      "\n",
      "           0       1.00      1.00      1.00      2008\n",
      "           1       1.00      1.00      1.00       209\n",
      "\n",
      "    accuracy                           1.00      2217\n",
      "   macro avg       1.00      1.00      1.00      2217\n",
      "weighted avg       1.00      1.00      1.00      2217\n",
      "\n",
      "Confusion Matrix: \n"
     ]
    },
    {
     "data": {
      "image/png": "[encoded data removed]",
      "text/plain": [
       "<Figure size 432x288 with 2 Axes>"
      ]
     },
     "metadata": {
      "needs_background": "light"
     },
     "output_type": "display_data"
    }
   ],
   "source": [
    "rf_clf = RandomForestClassifier(n_estimators=100, max_features='auto', max_depth=5, criterion='gini')\n",
    "\n",
    "y_pred = create_classifier(rf_clf, X_pca_balanced_10_train, y_pca_balanced_10_train, \n",
    "                          X_pca_balanced_10_test, y_pca_balanced_10_test)\n",
    "\n",
    "print('Confusion Matrix: ')\n",
    "plot_confusion_matrix(rf_clf, X_pca_balanced_10_test, y_pca_balanced_10_test)"
   ]
  },
  {
   "cell_type": "markdown",
   "metadata": {},
   "source": [
    "#### PCA balanced (20% fraud)"
   ]
  },
  {
   "cell_type": "markdown",
   "metadata": {},
   "source": [
    "Naive Bayes"
   ]
  },
  {
   "cell_type": "code",
   "execution_count": 33,
   "metadata": {},
   "outputs": [
    {
     "name": "stdout",
     "output_type": "stream",
     "text": [
      "Classification report: \n",
      "              precision    recall  f1-score   support\n",
      "\n",
      "           0       0.86      1.00      0.93      1979\n",
      "           1       1.00      0.39      0.57       515\n",
      "\n",
      "    accuracy                           0.87      2494\n",
      "   macro avg       0.93      0.70      0.75      2494\n",
      "weighted avg       0.89      0.87      0.85      2494\n",
      "\n",
      "Confusion Matrix: \n"
     ]
    },
    {
     "data": {
      "image/png": "[encoded data removed]",
      "text/plain": [
       "<Figure size 432x288 with 2 Axes>"
      ]
     },
     "metadata": {
      "needs_background": "light"
     },
     "output_type": "display_data"
    }
   ],
   "source": [
    "nb_clf = MultinomialNB(alpha=1)\n",
    "\n",
    "y_pred = create_classifier(nb_clf, X_pca_balanced_20_train_normalized, y_pca_balanced_20_train, \n",
    "                          X_pca_balanced_20_test_normalized, y_pca_balanced_20_test)\n",
    "\n",
    "print('Confusion Matrix: ')\n",
    "plot_confusion_matrix(nb_clf, X_pca_balanced_20_test_normalized, y_pca_balanced_20_test)"
   ]
  },
  {
   "cell_type": "markdown",
   "metadata": {},
   "source": [
    "Support Vector Machine"
   ]
  },
  {
   "cell_type": "code",
   "execution_count": 34,
   "metadata": {},
   "outputs": [
    {
     "name": "stdout",
     "output_type": "stream",
     "text": [
      "Classification report: \n",
      "              precision    recall  f1-score   support\n",
      "\n",
      "           0       1.00      1.00      1.00      1979\n",
      "           1       1.00      1.00      1.00       515\n",
      "\n",
      "    accuracy                           1.00      2494\n",
      "   macro avg       1.00      1.00      1.00      2494\n",
      "weighted avg       1.00      1.00      1.00      2494\n",
      "\n",
      "Confusion Matrix: \n"
     ]
    },
    {
     "data": {
      "image/png": "[encoded data removed]",
      "text/plain": [
       "<Figure size 432x288 with 2 Axes>"
      ]
     },
     "metadata": {
      "needs_background": "light"
     },
     "output_type": "display_data"
    }
   ],
   "source": [
    "svm_clf = SVC(kernel='rbf', C=1)\n",
    "\n",
    "y_pred = create_classifier(svm_clf, X_pca_balanced_20_train, y_pca_balanced_20_train, \n",
    "                          X_pca_balanced_20_test, y_pca_balanced_20_test)\n",
    "\n",
    "print('Confusion Matrix: ')\n",
    "plot_confusion_matrix(svm_clf, X_pca_balanced_20_test, y_pca_balanced_20_test)"
   ]
  },
  {
   "cell_type": "markdown",
   "metadata": {},
   "source": [
    "Random Forest"
   ]
  },
  {
   "cell_type": "code",
   "execution_count": 35,
   "metadata": {},
   "outputs": [
    {
     "name": "stdout",
     "output_type": "stream",
     "text": [
      "Classification report: \n",
      "              precision    recall  f1-score   support\n",
      "\n",
      "           0       0.99      1.00      1.00      1979\n",
      "           1       1.00      0.97      0.98       515\n",
      "\n",
      "    accuracy                           0.99      2494\n",
      "   macro avg       1.00      0.98      0.99      2494\n",
      "weighted avg       0.99      0.99      0.99      2494\n",
      "\n",
      "Confusion Matrix: \n"
     ]
    },
    {
     "data": {
      "image/png": "[encoded data removed]",
      "text/plain": [
       "<Figure size 432x288 with 2 Axes>"
      ]
     },
     "metadata": {
      "needs_background": "light"
     },
     "output_type": "display_data"
    }
   ],
   "source": [
    "rf_clf = RandomForestClassifier(n_estimators=100, max_features='auto', max_depth=3, criterion='gini')\n",
    "\n",
    "y_pred = create_classifier(rf_clf, X_pca_balanced_20_train, y_pca_balanced_20_train, \n",
    "                          X_pca_balanced_20_test, y_pca_balanced_20_test)\n",
    "\n",
    "print('Confusion Matrix: ')\n",
    "plot_confusion_matrix(rf_clf, X_pca_balanced_20_test, y_pca_balanced_20_test)"
   ]
  },
  {
   "cell_type": "markdown",
   "metadata": {},
   "source": [
    "#### PCA balanced (30% fraud)"
   ]
  },
  {
   "cell_type": "markdown",
   "metadata": {},
   "source": [
    "Naive Bayes"
   ]
  },
  {
   "cell_type": "code",
   "execution_count": 32,
   "metadata": {},
   "outputs": [
    {
     "name": "stdout",
     "output_type": "stream",
     "text": [
      "Classification report: \n",
      "              precision    recall  f1-score   support\n",
      "\n",
      "           0       0.88      1.00      0.94      1982\n",
      "           1       1.00      0.68      0.81       869\n",
      "\n",
      "    accuracy                           0.90      2851\n",
      "   macro avg       0.94      0.84      0.87      2851\n",
      "weighted avg       0.92      0.90      0.90      2851\n",
      "\n",
      "Confusion Matrix: \n"
     ]
    },
    {
     "data": {
      "image/png": "[encoded data removed]",
      "text/plain": [
       "<Figure size 432x288 with 2 Axes>"
      ]
     },
     "metadata": {
      "needs_background": "light"
     },
     "output_type": "display_data"
    }
   ],
   "source": [
    "nb_clf = MultinomialNB(alpha=1)\n",
    "\n",
    "y_pred = create_classifier(nb_clf, X_pca_balanced_30_train_normalized, y_pca_balanced_30_train, \n",
    "                          X_pca_balanced_30_test_normalized, y_pca_balanced_30_test)\n",
    "\n",
    "print('Confusion Matrix: ')\n",
    "plot_confusion_matrix(nb_clf, X_pca_balanced_30_test_normalized, y_pca_balanced_30_test)"
   ]
  },
  {
   "cell_type": "markdown",
   "metadata": {},
   "source": [
    "Support Vector Machine"
   ]
  },
  {
   "cell_type": "code",
   "execution_count": 31,
   "metadata": {},
   "outputs": [
    {
     "name": "stdout",
     "output_type": "stream",
     "text": [
      "Classification report: \n",
      "              precision    recall  f1-score   support\n",
      "\n",
      "           0       1.00      1.00      1.00      1982\n",
      "           1       1.00      1.00      1.00       869\n",
      "\n",
      "    accuracy                           1.00      2851\n",
      "   macro avg       1.00      1.00      1.00      2851\n",
      "weighted avg       1.00      1.00      1.00      2851\n",
      "\n",
      "Confusion Matrix: \n"
     ]
    },
    {
     "data": {
      "image/png": "[encoded data removed]",
      "text/plain": [
       "<Figure size 432x288 with 2 Axes>"
      ]
     },
     "metadata": {
      "needs_background": "light"
     },
     "output_type": "display_data"
    }
   ],
   "source": [
    "svm_clf = SVC(kernel='rbf', C=1)\n",
    "\n",
    "y_pred = create_classifier(svm_clf, X_pca_balanced_30_train, y_pca_balanced_30_train, \n",
    "                          X_pca_balanced_30_test, y_pca_balanced_30_test)\n",
    "\n",
    "print('Confusion Matrix: ')\n",
    "plot_confusion_matrix(svm_clf, X_pca_balanced_30_test, y_pca_balanced_30_test)"
   ]
  },
  {
   "cell_type": "markdown",
   "metadata": {},
   "source": [
    "Random Forest"
   ]
  },
  {
   "cell_type": "code",
   "execution_count": 30,
   "metadata": {},
   "outputs": [
    {
     "name": "stdout",
     "output_type": "stream",
     "text": [
      "Classification report: \n",
      "              precision    recall  f1-score   support\n",
      "\n",
      "           0       1.00      1.00      1.00      1982\n",
      "           1       1.00      1.00      1.00       869\n",
      "\n",
      "    accuracy                           1.00      2851\n",
      "   macro avg       1.00      1.00      1.00      2851\n",
      "weighted avg       1.00      1.00      1.00      2851\n",
      "\n",
      "Confusion Matrix: \n"
     ]
    },
    {
     "data": {
      "image/png": "[encoded data removed]",
      "text/plain": [
       "<Figure size 432x288 with 2 Axes>"
      ]
     },
     "metadata": {
      "needs_background": "light"
     },
     "output_type": "display_data"
    }
   ],
   "source": [
    "rf_clf = RandomForestClassifier(n_estimators=100, max_features='auto', max_depth=3, criterion='gini')\n",
    "\n",
    "y_pred = create_classifier(rf_clf, X_pca_balanced_30_train, y_pca_balanced_30_train, \n",
    "                          X_pca_balanced_30_test, y_pca_balanced_30_test)\n",
    "\n",
    "print('Confusion Matrix: ')\n",
    "plot_confusion_matrix(rf_clf, X_pca_balanced_30_test, y_pca_balanced_30_test)"
   ]
  },
  {
   "cell_type": "markdown",
   "metadata": {},
   "source": [
    "#### PCA balanced (40% fraud)"
   ]
  },
  {
   "cell_type": "markdown",
   "metadata": {},
   "source": [
    "Naive Bayes"
   ]
  },
  {
   "cell_type": "code",
   "execution_count": 27,
   "metadata": {},
   "outputs": [
    {
     "name": "stdout",
     "output_type": "stream",
     "text": [
      "Classification report: \n",
      "              precision    recall  f1-score   support\n",
      "\n",
      "           0       0.88      1.00      0.94      1955\n",
      "           1       1.00      0.80      0.89      1369\n",
      "\n",
      "    accuracy                           0.92      3324\n",
      "   macro avg       0.94      0.90      0.91      3324\n",
      "weighted avg       0.93      0.92      0.92      3324\n",
      "\n",
      "Confusion Matrix: \n"
     ]
    },
    {
     "data": {
      "image/png": "[encoded data removed]",
      "text/plain": [
       "<Figure size 432x288 with 2 Axes>"
      ]
     },
     "metadata": {
      "needs_background": "light"
     },
     "output_type": "display_data"
    }
   ],
   "source": [
    "nb_clf = MultinomialNB(alpha=1)\n",
    "\n",
    "y_pred = create_classifier(nb_clf, X_pca_balanced_40_train_normalized, y_pca_balanced_40_train, \n",
    "                          X_pca_balanced_40_test_normalized, y_pca_balanced_40_test)\n",
    "\n",
    "print('Confusion Matrix: ')\n",
    "plot_confusion_matrix(nb_clf, X_pca_balanced_40_test_normalized, y_pca_balanced_40_test)"
   ]
  },
  {
   "cell_type": "markdown",
   "metadata": {},
   "source": [
    "Support Vector Machine"
   ]
  },
  {
   "cell_type": "code",
   "execution_count": 28,
   "metadata": {},
   "outputs": [
    {
     "name": "stdout",
     "output_type": "stream",
     "text": [
      "Classification report: \n",
      "              precision    recall  f1-score   support\n",
      "\n",
      "           0       1.00      1.00      1.00      1955\n",
      "           1       1.00      1.00      1.00      1369\n",
      "\n",
      "    accuracy                           1.00      3324\n",
      "   macro avg       1.00      1.00      1.00      3324\n",
      "weighted avg       1.00      1.00      1.00      3324\n",
      "\n",
      "Confusion Matrix: \n"
     ]
    },
    {
     "data": {
      "image/png": "[encoded data removed]",
      "text/plain": [
       "<Figure size 432x288 with 2 Axes>"
      ]
     },
     "metadata": {
      "needs_background": "light"
     },
     "output_type": "display_data"
    }
   ],
   "source": [
    "svm_clf = SVC(kernel='poly', C=100)\n",
    "\n",
    "y_pred = create_classifier(svm_clf, X_pca_balanced_40_train, y_pca_balanced_40_train, \n",
    "                          X_pca_balanced_40_test, y_pca_balanced_40_test)\n",
    "\n",
    "print('Confusion Matrix: ')\n",
    "plot_confusion_matrix(svm_clf, X_pca_balanced_40_test, y_pca_balanced_40_test)"
   ]
  },
  {
   "cell_type": "markdown",
   "metadata": {},
   "source": [
    "Random Forest"
   ]
  },
  {
   "cell_type": "code",
   "execution_count": 29,
   "metadata": {},
   "outputs": [
    {
     "name": "stdout",
     "output_type": "stream",
     "text": [
      "Classification report: \n",
      "              precision    recall  f1-score   support\n",
      "\n",
      "           0       1.00      1.00      1.00      1955\n",
      "           1       1.00      1.00      1.00      1369\n",
      "\n",
      "    accuracy                           1.00      3324\n",
      "   macro avg       1.00      1.00      1.00      3324\n",
      "weighted avg       1.00      1.00      1.00      3324\n",
      "\n",
      "Confusion Matrix: \n"
     ]
    },
    {
     "data": {
      "image/png": "[encoded data removed]",
      "text/plain": [
       "<Figure size 432x288 with 2 Axes>"
      ]
     },
     "metadata": {
      "needs_background": "light"
     },
     "output_type": "display_data"
    }
   ],
   "source": [
    "rf_clf = RandomForestClassifier(n_estimators=100, max_features='auto', max_depth=3, criterion='gini')\n",
    "\n",
    "y_pred = create_classifier(rf_clf, X_pca_balanced_40_train, y_pca_balanced_40_train, \n",
    "                          X_pca_balanced_40_test, y_pca_balanced_40_test)\n",
    "\n",
    "print('Confusion Matrix: ')\n",
    "plot_confusion_matrix(rf_clf, X_pca_balanced_40_test, y_pca_balanced_40_test)"
   ]
  },
  {
   "cell_type": "markdown",
   "metadata": {},
   "source": [
    "#### PCA balanced (50% fraud)"
   ]
  },
  {
   "cell_type": "markdown",
   "metadata": {},
   "source": [
    "Naive Bayes"
   ]
  },
  {
   "cell_type": "code",
   "execution_count": 25,
   "metadata": {},
   "outputs": [
    {
     "name": "stdout",
     "output_type": "stream",
     "text": [
      "Classification report: \n",
      "              precision    recall  f1-score   support\n",
      "\n",
      "           0       0.87      1.00      0.93      1960\n",
      "           1       1.00      0.85      0.92      2028\n",
      "\n",
      "    accuracy                           0.92      3988\n",
      "   macro avg       0.93      0.93      0.92      3988\n",
      "weighted avg       0.93      0.92      0.92      3988\n",
      "\n",
      "Confusion Matrix: \n"
     ]
    },
    {
     "data": {
      "image/png": "[encoded data removed]",
      "text/plain": [
       "<Figure size 432x288 with 2 Axes>"
      ]
     },
     "metadata": {
      "needs_background": "light"
     },
     "output_type": "display_data"
    }
   ],
   "source": [
    "nb_clf = MultinomialNB(alpha=1)\n",
    "\n",
    "y_pred = create_classifier(nb_clf, X_pca_balanced_50_train_normalized, y_pca_balanced_50_train, \n",
    "                          X_pca_balanced_50_test_normalized, y_pca_balanced_50_test)\n",
    "\n",
    "print('Confusion Matrix: ')\n",
    "plot_confusion_matrix(nb_clf, X_pca_balanced_50_test_normalized, y_pca_balanced_50_test)"
   ]
  },
  {
   "cell_type": "markdown",
   "metadata": {},
   "source": [
    "Support Vector Machine"
   ]
  },
  {
   "cell_type": "code",
   "execution_count": 24,
   "metadata": {},
   "outputs": [
    {
     "name": "stdout",
     "output_type": "stream",
     "text": [
      "Classification report: \n",
      "              precision    recall  f1-score   support\n",
      "\n",
      "           0       1.00      1.00      1.00      1960\n",
      "           1       1.00      1.00      1.00      2028\n",
      "\n",
      "    accuracy                           1.00      3988\n",
      "   macro avg       1.00      1.00      1.00      3988\n",
      "weighted avg       1.00      1.00      1.00      3988\n",
      "\n",
      "Confusion Matrix: \n"
     ]
    },
    {
     "data": {
      "image/png": "[encoded data removed]",
      "text/plain": [
       "<Figure size 432x288 with 2 Axes>"
      ]
     },
     "metadata": {
      "needs_background": "light"
     },
     "output_type": "display_data"
    }
   ],
   "source": [
    "svm_clf = SVC(kernel='rbf', C=10)\n",
    "\n",
    "y_pred = create_classifier(svm_clf, X_pca_balanced_50_train, y_pca_balanced_50_train, \n",
    "                          X_pca_balanced_50_test, y_pca_balanced_50_test)\n",
    "\n",
    "print('Confusion Matrix: ')\n",
    "plot_confusion_matrix(svm_clf, X_pca_balanced_50_test, y_pca_balanced_50_test)"
   ]
  },
  {
   "cell_type": "markdown",
   "metadata": {},
   "source": [
    "Random Forest"
   ]
  },
  {
   "cell_type": "code",
   "execution_count": 26,
   "metadata": {},
   "outputs": [
    {
     "name": "stdout",
     "output_type": "stream",
     "text": [
      "Classification report: \n",
      "              precision    recall  f1-score   support\n",
      "\n",
      "           0       1.00      1.00      1.00      1960\n",
      "           1       1.00      1.00      1.00      2028\n",
      "\n",
      "    accuracy                           1.00      3988\n",
      "   macro avg       1.00      1.00      1.00      3988\n",
      "weighted avg       1.00      1.00      1.00      3988\n",
      "\n",
      "Confusion Matrix: \n"
     ]
    },
    {
     "data": {
      "image/png": "[encoded data removed]",
      "text/plain": [
       "<Figure size 432x288 with 2 Axes>"
      ]
     },
     "metadata": {
      "needs_background": "light"
     },
     "output_type": "display_data"
    }
   ],
   "source": [
    "rf_clf = RandomForestClassifier(n_estimators=100, max_features='auto', max_depth=3, criterion='gini')\n",
    "\n",
    "y_pred = create_classifier(rf_clf, X_pca_balanced_50_train, y_pca_balanced_50_train, \n",
    "                          X_pca_balanced_50_test, y_pca_balanced_50_test)\n",
    "\n",
    "print('Confusion Matrix: ')\n",
    "plot_confusion_matrix(rf_clf, X_pca_balanced_50_test, y_pca_balanced_50_test)"
   ]
  },
  {
   "cell_type": "markdown",
   "metadata": {},
   "source": [
    "#### Results"
   ]
  },
  {
   "cell_type": "code",
   "execution_count": 102,
   "metadata": {},
   "outputs": [
    {
     "data": {
      "application/vnd.plotly.v1+json": {
       "config": {
        "plotlyServerURL": "https://plot.ly"
       },
       "data": [
        {
         "line": {
          "color": "#46C756"
         },
         "name": "Naive Bayes",
         "type": "scatter",
         "x": [
          "0.3%",
          "1%",
          "10%",
          "20%",
          "30%",
          "40%",
          "50%"
         ],
         "xaxis": "x",
         "y": [
          0,
          0,
          0.07,
          0.57,
          0.81,
          0.89,
          0.92
         ],
         "yaxis": "y"
        },
        {
         "line": {
          "color": "#FF69B4"
         },
         "name": "Support Vector Machine",
         "type": "scatter",
         "x": [
          "0.3%",
          "1%",
          "10%",
          "20%",
          "30%",
          "40%",
          "50%"
         ],
         "xaxis": "x",
         "y": [
          0.82,
          0.89,
          1,
          1,
          1,
          1,
          1
         ],
         "yaxis": "y"
        },
        {
         "line": {
          "color": "#2E7890"
         },
         "name": "Random Forest",
         "type": "scatter",
         "x": [
          "0.3%",
          "1%",
          "10%",
          "20%",
          "30%",
          "40%",
          "50%"
         ],
         "xaxis": "x",
         "y": [
          0.8,
          1,
          1,
          0.98,
          1,
          1,
          1
         ],
         "yaxis": "y"
        },
        {
         "line": {
          "color": "#46C756"
         },
         "showlegend": false,
         "type": "scatter",
         "x": [
          "0.3%",
          "1%",
          "10%",
          "20%",
          "30%",
          "40%",
          "50%"
         ],
         "xaxis": "x2",
         "y": [
          1,
          0.99,
          0.95,
          0.93,
          0.94,
          0.94,
          0.93
         ],
         "yaxis": "y2"
        },
        {
         "line": {
          "color": "#FF69B4"
         },
         "showlegend": false,
         "type": "scatter",
         "x": [
          "0.3%",
          "1%",
          "10%",
          "20%",
          "30%",
          "40%",
          "50%"
         ],
         "xaxis": "x2",
         "y": [
          1,
          1,
          1,
          1,
          1,
          1,
          1
         ],
         "yaxis": "y2"
        },
        {
         "line": {
          "color": "#2E7890"
         },
         "showlegend": false,
         "type": "scatter",
         "x": [
          "0.3%",
          "1%",
          "10%",
          "20%",
          "30%",
          "40%",
          "50%"
         ],
         "xaxis": "x2",
         "y": [
          1,
          1,
          1,
          1,
          1,
          1,
          1
         ],
         "yaxis": "y2"
        },
        {
         "line": {
          "color": "#46C756"
         },
         "showlegend": false,
         "type": "scatter",
         "x": [
          "0.3%",
          "1%",
          "10%",
          "20%",
          "30%",
          "40%",
          "50%"
         ],
         "xaxis": "x3",
         "y": [
          0.99,
          0.99,
          0.91,
          0.87,
          0.9,
          0.92,
          0.92
         ],
         "yaxis": "y3"
        },
        {
         "line": {
          "color": "#FF69B4"
         },
         "showlegend": false,
         "type": "scatter",
         "x": [
          "0.3%",
          "1%",
          "10%",
          "20%",
          "30%",
          "40%",
          "50%"
         ],
         "xaxis": "x3",
         "y": [
          1,
          1,
          1,
          1,
          1,
          1,
          1
         ],
         "yaxis": "y3"
        },
        {
         "line": {
          "color": "#2E7890"
         },
         "showlegend": false,
         "type": "scatter",
         "x": [
          "0.3%",
          "1%",
          "10%",
          "20%",
          "30%",
          "40%",
          "50%"
         ],
         "xaxis": "x3",
         "y": [
          1,
          1,
          1,
          0.99,
          1,
          1,
          1
         ],
         "yaxis": "y3"
        }
       ],
       "layout": {
        "annotations": [
         {
          "font": {
           "size": 16
          },
          "showarrow": false,
          "text": "Fraud",
          "x": 0.14444444444444446,
          "xanchor": "center",
          "xref": "paper",
          "y": 1,
          "yanchor": "bottom",
          "yref": "paper"
         },
         {
          "font": {
           "size": 16
          },
          "showarrow": false,
          "text": "Not fraud",
          "x": 0.5,
          "xanchor": "center",
          "xref": "paper",
          "y": 1,
          "yanchor": "bottom",
          "yref": "paper"
         },
         {
          "font": {
           "size": 16
          },
          "showarrow": false,
          "text": "Accuracy",
          "x": 0.8555555555555556,
          "xanchor": "center",
          "xref": "paper",
          "y": 1,
          "yanchor": "bottom",
          "yref": "paper"
         },
         {
          "font": {
           "size": 16
          },
          "showarrow": false,
          "text": "Balanced (%)",
          "x": 0.5,
          "xanchor": "center",
          "xref": "paper",
          "y": 0,
          "yanchor": "top",
          "yref": "paper",
          "yshift": -30
         },
         {
          "font": {
           "size": 16
          },
          "showarrow": false,
          "text": "F1-score",
          "textangle": -90,
          "x": 0,
          "xanchor": "right",
          "xref": "paper",
          "xshift": -40,
          "y": 0.5,
          "yanchor": "middle",
          "yref": "paper"
         }
        ],
        "font": {
         "color": "#37363d",
         "family": "Arial",
         "size": 14
        },
        "plot_bgcolor": "white",
        "template": {
         "data": {
          "bar": [
           {
            "error_x": {
             "color": "#2a3f5f"
            },
            "error_y": {
             "color": "#2a3f5f"
            },
            "marker": {
             "line": {
              "color": "#E5ECF6",
              "width": 0.5
             }
            },
            "type": "bar"
           }
          ],
          "barpolar": [
           {
            "marker": {
             "line": {
              "color": "#E5ECF6",
              "width": 0.5
             }
            },
            "type": "barpolar"
           }
          ],
          "carpet": [
           {
            "aaxis": {
             "endlinecolor": "#2a3f5f",
             "gridcolor": "white",
             "linecolor": "white",
             "minorgridcolor": "white",
             "startlinecolor": "#2a3f5f"
            },
            "baxis": {
             "endlinecolor": "#2a3f5f",
             "gridcolor": "white",
             "linecolor": "white",
             "minorgridcolor": "white",
             "startlinecolor": "#2a3f5f"
            },
            "type": "carpet"
           }
          ],
          "choropleth": [
           {
            "colorbar": {
             "outlinewidth": 0,
             "ticks": ""
            },
            "type": "choropleth"
           }
          ],
          "contour": [
           {
            "colorbar": {
             "outlinewidth": 0,
             "ticks": ""
            },
            "colorscale": [
             [
              0,
              "#0d0887"
             ],
             [
              0.1111111111111111,
              "#46039f"
             ],
             [
              0.2222222222222222,
              "#7201a8"
             ],
             [
              0.3333333333333333,
              "#9c179e"
             ],
             [
              0.4444444444444444,
              "#bd3786"
             ],
             [
              0.5555555555555556,
              "#d8576b"
             ],
             [
              0.6666666666666666,
              "#ed7953"
             ],
             [
              0.7777777777777778,
              "#fb9f3a"
             ],
             [
              0.8888888888888888,
              "#fdca26"
             ],
             [
              1,
              "#f0f921"
             ]
            ],
            "type": "contour"
           }
          ],
          "contourcarpet": [
           {
            "colorbar": {
             "outlinewidth": 0,
             "ticks": ""
            },
            "type": "contourcarpet"
           }
          ],
          "heatmap": [
           {
            "colorbar": {
             "outlinewidth": 0,
             "ticks": ""
            },
            "colorscale": [
             [
              0,
              "#0d0887"
             ],
             [
              0.1111111111111111,
              "#46039f"
             ],
             [
              0.2222222222222222,
              "#7201a8"
             ],
             [
              0.3333333333333333,
              "#9c179e"
             ],
             [
              0.4444444444444444,
              "#bd3786"
             ],
             [
              0.5555555555555556,
              "#d8576b"
             ],
             [
              0.6666666666666666,
              "#ed7953"
             ],
             [
              0.7777777777777778,
              "#fb9f3a"
             ],
             [
              0.8888888888888888,
              "#fdca26"
             ],
             [
              1,
              "#f0f921"
             ]
            ],
            "type": "heatmap"
           }
          ],
          "heatmapgl": [
           {
            "colorbar": {
             "outlinewidth": 0,
             "ticks": ""
            },
            "colorscale": [
             [
              0,
              "#0d0887"
             ],
             [
              0.1111111111111111,
              "#46039f"
             ],
             [
              0.2222222222222222,
              "#7201a8"
             ],
             [
              0.3333333333333333,
              "#9c179e"
             ],
             [
              0.4444444444444444,
              "#bd3786"
             ],
             [
              0.5555555555555556,
              "#d8576b"
             ],
             [
              0.6666666666666666,
              "#ed7953"
             ],
             [
              0.7777777777777778,
              "#fb9f3a"
             ],
             [
              0.8888888888888888,
              "#fdca26"
             ],
             [
              1,
              "#f0f921"
             ]
            ],
            "type": "heatmapgl"
           }
          ],
          "histogram": [
           {
            "marker": {
             "colorbar": {
              "outlinewidth": 0,
              "ticks": ""
             }
            },
            "type": "histogram"
           }
          ],
          "histogram2d": [
           {
            "colorbar": {
             "outlinewidth": 0,
             "ticks": ""
            },
            "colorscale": [
             [
              0,
              "#0d0887"
             ],
             [
              0.1111111111111111,
              "#46039f"
             ],
             [
              0.2222222222222222,
              "#7201a8"
             ],
             [
              0.3333333333333333,
              "#9c179e"
             ],
             [
              0.4444444444444444,
              "#bd3786"
             ],
             [
              0.5555555555555556,
              "#d8576b"
             ],
             [
              0.6666666666666666,
              "#ed7953"
             ],
             [
              0.7777777777777778,
              "#fb9f3a"
             ],
             [
              0.8888888888888888,
              "#fdca26"
             ],
             [
              1,
              "#f0f921"
             ]
            ],
            "type": "histogram2d"
           }
          ],
          "histogram2dcontour": [
           {
            "colorbar": {
             "outlinewidth": 0,
             "ticks": ""
            },
            "colorscale": [
             [
              0,
              "#0d0887"
             ],
             [
              0.1111111111111111,
              "#46039f"
             ],
             [
              0.2222222222222222,
              "#7201a8"
             ],
             [
              0.3333333333333333,
              "#9c179e"
             ],
             [
              0.4444444444444444,
              "#bd3786"
             ],
             [
              0.5555555555555556,
              "#d8576b"
             ],
             [
              0.6666666666666666,
              "#ed7953"
             ],
             [
              0.7777777777777778,
              "#fb9f3a"
             ],
             [
              0.8888888888888888,
              "#fdca26"
             ],
             [
              1,
              "#f0f921"
             ]
            ],
            "type": "histogram2dcontour"
           }
          ],
          "mesh3d": [
           {
            "colorbar": {
             "outlinewidth": 0,
             "ticks": ""
            },
            "type": "mesh3d"
           }
          ],
          "parcoords": [
           {
            "line": {
             "colorbar": {
              "outlinewidth": 0,
              "ticks": ""
             }
            },
            "type": "parcoords"
           }
          ],
          "pie": [
           {
            "automargin": true,
            "type": "pie"
           }
          ],
          "scatter": [
           {
            "marker": {
             "colorbar": {
              "outlinewidth": 0,
              "ticks": ""
             }
            },
            "type": "scatter"
           }
          ],
          "scatter3d": [
           {
            "line": {
             "colorbar": {
              "outlinewidth": 0,
              "ticks": ""
             }
            },
            "marker": {
             "colorbar": {
              "outlinewidth": 0,
              "ticks": ""
             }
            },
            "type": "scatter3d"
           }
          ],
          "scattercarpet": [
           {
            "marker": {
             "colorbar": {
              "outlinewidth": 0,
              "ticks": ""
             }
            },
            "type": "scattercarpet"
           }
          ],
          "scattergeo": [
           {
            "marker": {
             "colorbar": {
              "outlinewidth": 0,
              "ticks": ""
             }
            },
            "type": "scattergeo"
           }
          ],
          "scattergl": [
           {
            "marker": {
             "colorbar": {
              "outlinewidth": 0,
              "ticks": ""
             }
            },
            "type": "scattergl"
           }
          ],
          "scattermapbox": [
           {
            "marker": {
             "colorbar": {
              "outlinewidth": 0,
              "ticks": ""
             }
            },
            "type": "scattermapbox"
           }
          ],
          "scatterpolar": [
           {
            "marker": {
             "colorbar": {
              "outlinewidth": 0,
              "ticks": ""
             }
            },
            "type": "scatterpolar"
           }
          ],
          "scatterpolargl": [
           {
            "marker": {
             "colorbar": {
              "outlinewidth": 0,
              "ticks": ""
             }
            },
            "type": "scatterpolargl"
           }
          ],
          "scatterternary": [
           {
            "marker": {
             "colorbar": {
              "outlinewidth": 0,
              "ticks": ""
             }
            },
            "type": "scatterternary"
           }
          ],
          "surface": [
           {
            "colorbar": {
             "outlinewidth": 0,
             "ticks": ""
            },
            "colorscale": [
             [
              0,
              "#0d0887"
             ],
             [
              0.1111111111111111,
              "#46039f"
             ],
             [
              0.2222222222222222,
              "#7201a8"
             ],
             [
              0.3333333333333333,
              "#9c179e"
             ],
             [
              0.4444444444444444,
              "#bd3786"
             ],
             [
              0.5555555555555556,
              "#d8576b"
             ],
             [
              0.6666666666666666,
              "#ed7953"
             ],
             [
              0.7777777777777778,
              "#fb9f3a"
             ],
             [
              0.8888888888888888,
              "#fdca26"
             ],
             [
              1,
              "#f0f921"
             ]
            ],
            "type": "surface"
           }
          ],
          "table": [
           {
            "cells": {
             "fill": {
              "color": "#EBF0F8"
             },
             "line": {
              "color": "white"
             }
            },
            "header": {
             "fill": {
              "color": "#C8D4E3"
             },
             "line": {
              "color": "white"
             }
            },
            "type": "table"
           }
          ]
         },
         "layout": {
          "annotationdefaults": {
           "arrowcolor": "#2a3f5f",
           "arrowhead": 0,
           "arrowwidth": 1
          },
          "coloraxis": {
           "colorbar": {
            "outlinewidth": 0,
            "ticks": ""
           }
          },
          "colorscale": {
           "diverging": [
            [
             0,
             "#8e0152"
            ],
            [
             0.1,
             "#c51b7d"
            ],
            [
             0.2,
             "#de77ae"
            ],
            [
             0.3,
             "#f1b6da"
            ],
            [
             0.4,
             "#fde0ef"
            ],
            [
             0.5,
             "#f7f7f7"
            ],
            [
             0.6,
             "#e6f5d0"
            ],
            [
             0.7,
             "#b8e186"
            ],
            [
             0.8,
             "#7fbc41"
            ],
            [
             0.9,
             "#4d9221"
            ],
            [
             1,
             "#276419"
            ]
           ],
           "sequential": [
            [
             0,
             "#0d0887"
            ],
            [
             0.1111111111111111,
             "#46039f"
            ],
            [
             0.2222222222222222,
             "#7201a8"
            ],
            [
             0.3333333333333333,
             "#9c179e"
            ],
            [
             0.4444444444444444,
             "#bd3786"
            ],
            [
             0.5555555555555556,
             "#d8576b"
            ],
            [
             0.6666666666666666,
             "#ed7953"
            ],
            [
             0.7777777777777778,
             "#fb9f3a"
            ],
            [
             0.8888888888888888,
             "#fdca26"
            ],
            [
             1,
             "#f0f921"
            ]
           ],
           "sequentialminus": [
            [
             0,
             "#0d0887"
            ],
            [
             0.1111111111111111,
             "#46039f"
            ],
            [
             0.2222222222222222,
             "#7201a8"
            ],
            [
             0.3333333333333333,
             "#9c179e"
            ],
            [
             0.4444444444444444,
             "#bd3786"
            ],
            [
             0.5555555555555556,
             "#d8576b"
            ],
            [
             0.6666666666666666,
             "#ed7953"
            ],
            [
             0.7777777777777778,
             "#fb9f3a"
            ],
            [
             0.8888888888888888,
             "#fdca26"
            ],
            [
             1,
             "#f0f921"
            ]
           ]
          },
          "colorway": [
           "#636efa",
           "#EF553B",
           "#00cc96",
           "#ab63fa",
           "#FFA15A",
           "#19d3f3",
           "#FF6692",
           "#B6E880",
           "#FF97FF",
           "#FECB52"
          ],
          "font": {
           "color": "#2a3f5f"
          },
          "geo": {
           "bgcolor": "white",
           "lakecolor": "white",
           "landcolor": "#E5ECF6",
           "showlakes": true,
           "showland": true,
           "subunitcolor": "white"
          },
          "hoverlabel": {
           "align": "left"
          },
          "hovermode": "closest",
          "mapbox": {
           "style": "light"
          },
          "paper_bgcolor": "white",
          "plot_bgcolor": "#E5ECF6",
          "polar": {
           "angularaxis": {
            "gridcolor": "white",
            "linecolor": "white",
            "ticks": ""
           },
           "bgcolor": "#E5ECF6",
           "radialaxis": {
            "gridcolor": "white",
            "linecolor": "white",
            "ticks": ""
           }
          },
          "scene": {
           "xaxis": {
            "backgroundcolor": "#E5ECF6",
            "gridcolor": "white",
            "gridwidth": 2,
            "linecolor": "white",
            "showbackground": true,
            "ticks": "",
            "zerolinecolor": "white"
           },
           "yaxis": {
            "backgroundcolor": "#E5ECF6",
            "gridcolor": "white",
            "gridwidth": 2,
            "linecolor": "white",
            "showbackground": true,
            "ticks": "",
            "zerolinecolor": "white"
           },
           "zaxis": {
            "backgroundcolor": "#E5ECF6",
            "gridcolor": "white",
            "gridwidth": 2,
            "linecolor": "white",
            "showbackground": true,
            "ticks": "",
            "zerolinecolor": "white"
           }
          },
          "shapedefaults": {
           "line": {
            "color": "#2a3f5f"
           }
          },
          "ternary": {
           "aaxis": {
            "gridcolor": "white",
            "linecolor": "white",
            "ticks": ""
           },
           "baxis": {
            "gridcolor": "white",
            "linecolor": "white",
            "ticks": ""
           },
           "bgcolor": "#E5ECF6",
           "caxis": {
            "gridcolor": "white",
            "linecolor": "white",
            "ticks": ""
           }
          },
          "title": {
           "x": 0.05
          },
          "xaxis": {
           "automargin": true,
           "gridcolor": "white",
           "linecolor": "white",
           "ticks": "",
           "title": {
            "standoff": 15
           },
           "zerolinecolor": "white",
           "zerolinewidth": 2
          },
          "yaxis": {
           "automargin": true,
           "gridcolor": "white",
           "linecolor": "white",
           "ticks": "",
           "title": {
            "standoff": 15
           },
           "zerolinecolor": "white",
           "zerolinewidth": 2
          }
         }
        },
        "xaxis": {
         "anchor": "y",
         "domain": [
          0,
          0.2888888888888889
         ],
         "gridcolor": "lightgray",
         "gridwidth": 1,
         "linecolor": "black",
         "linewidth": 1,
         "showgrid": true,
         "showline": true
        },
        "xaxis2": {
         "anchor": "y2",
         "domain": [
          0.35555555555555557,
          0.6444444444444445
         ],
         "gridcolor": "lightgray",
         "gridwidth": 1,
         "linecolor": "black",
         "linewidth": 1,
         "showgrid": true,
         "showline": true
        },
        "xaxis3": {
         "anchor": "y3",
         "domain": [
          0.7111111111111111,
          1
         ],
         "gridcolor": "lightgray",
         "gridwidth": 1,
         "linecolor": "black",
         "linewidth": 1,
         "showgrid": true,
         "showline": true
        },
        "yaxis": {
         "anchor": "x",
         "domain": [
          0,
          1
         ],
         "gridcolor": "lightgray",
         "gridwidth": 1,
         "linecolor": "black",
         "linewidth": 1,
         "showgrid": true,
         "showline": true
        },
        "yaxis2": {
         "anchor": "x2",
         "domain": [
          0,
          1
         ],
         "gridcolor": "lightgray",
         "gridwidth": 1,
         "linecolor": "black",
         "linewidth": 1,
         "showgrid": true,
         "showline": true
        },
        "yaxis3": {
         "anchor": "x3",
         "domain": [
          0,
          1
         ],
         "gridcolor": "lightgray",
         "gridwidth": 1,
         "linecolor": "black",
         "linewidth": 1,
         "showgrid": true,
         "showline": true
        }
       }
      }
     },
     "metadata": {},
     "output_type": "display_data"
    }
   ],
   "source": [
    "x_axis = ['0.3%', '1%', '10%', '20%', '30%', '40%', '50%']\n",
    "\n",
    "fig = make_subplots(rows=1, cols=3, shared_xaxes=True, subplot_titles=['Fraud', 'Not fraud', 'Accuracy'], x_title='Balanced (%)', y_title='F1-score')\n",
    "\n",
    "fig.add_traces([go.Scatter(x=x_axis, y=[0, 0, 0.07, 0.57, 0.81, 0.89, 0.92], name='Naive Bayes', line=dict(color=\"#46C756\")),\n",
    "                go.Scatter(x=x_axis, y=[0.82, 0.89, 1, 1, 1, 1, 1], name='Support Vector Machine', line=dict(color=\"#FF69B4\")),\n",
    "                go.Scatter(x=x_axis, y=[0.8, 1, 1, 0.98, 1, 1, 1], name='Random Forest', line=dict(color=\"#2E7890\"))], rows=[1,1,1], cols=[1,1,1])\n",
    "\n",
    "fig.add_traces([go.Scatter(x=x_axis, y=[1, 0.99, 0.95, 0.93, 0.94, 0.94, 0.93], line=dict(color=\"#46C756\"), showlegend=False),\n",
    "                go.Scatter(x=x_axis, y=[1, 1, 1, 1, 1, 1, 1], line=dict(color=\"#FF69B4\"), showlegend=False),\n",
    "                go.Scatter(x=x_axis, y=[1, 1, 1, 1, 1, 1, 1], line=dict(color=\"#2E7890\"), showlegend=False)], rows=[1,1,1], cols=[2,2,2])\n",
    "\n",
    "fig.add_traces([go.Scatter(x=x_axis, y=[0.99, 0.99, 0.91, 0.87, 0.90, 0.92, 0.92], line=dict(color=\"#46C756\"), showlegend=False),\n",
    "                go.Scatter(x=x_axis, y=[1, 1, 1, 1, 1, 1, 1], line=dict(color=\"#FF69B4\"), showlegend=False),\n",
    "                go.Scatter(x=x_axis, y=[1, 1, 1, 0.99, 1, 1, 1], line=dict(color=\"#2E7890\"), showlegend=False)], rows=[1,1,1], cols=[3,3,3])\n",
    "\n",
    "fig.update_layout(\n",
    "plot_bgcolor = 'white',\n",
    "font = {'family': 'Arial','size': 14,'color': '#37363d'})\n",
    "\n",
    "fig.update_xaxes( showgrid=True, gridwidth=1, gridcolor='lightgray',\n",
    "showline=True, linewidth=1, linecolor='black')\n",
    "\n",
    "fig.update_yaxes(showgrid=True, gridwidth=1, gridcolor='lightgray',\n",
    "showline=True, linewidth=1, linecolor='black')\n",
    "\n",
    "fig.show()"
   ]
  },
  {
   "cell_type": "code",
   "execution_count": 2,
   "metadata": {},
   "outputs": [
    {
     "data": {
      "image/png": "[encoded data removed]",
      "text/plain": [
       "<PIL.PngImagePlugin.PngImageFile image mode=RGBA size=1263x645 at 0x7F9246240190>"
      ]
     },
     "execution_count": 2,
     "metadata": {},
     "output_type": "execute_result"
    }
   ],
   "source": [
    "classification_results = Image.open('results/classification_results.png')\n",
    "classification_results"
   ]
  }
 ],
 "metadata": {
  "interpreter": {
   "hash": "916dbcbb3f70747c44a77c7bcd40155683ae19c65e1c03b4aa3499c5328201f1"
  },
  "kernelspec": {
   "display_name": "Python 3.8.10 64-bit",
   "language": "python",
   "name": "python3"
  },
  "language_info": {
   "codemirror_mode": {
    "name": "ipython",
    "version": 3
   },
   "file_extension": ".py",
   "mimetype": "text/x-python",
   "name": "python",
   "nbconvert_exporter": "python",
   "pygments_lexer": "ipython3",
   "version": "3.8.10"
  },
  "orig_nbformat": 4
 },
 "nbformat": 4,
 "nbformat_minor": 2
}
