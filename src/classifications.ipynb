{
 "cells": [
  {
   "cell_type": "markdown",
   "metadata": {},
   "source": [
    "# Credit card fraud detection"
   ]
  },
  {
   "cell_type": "markdown",
   "metadata": {},
   "source": [
    "## Imports"
   ]
  },
  {
   "cell_type": "code",
   "execution_count": 1,
   "metadata": {},
   "outputs": [],
   "source": [
    "# Dataset\n",
    "import pandas as pd\n",
    "import numpy as np\n",
    "\n",
    "# Vectorizing and spliting\n",
    "from sklearn.model_selection import train_test_split\n",
    "\n",
    "# Classifications\n",
    "from sklearn.svm import SVC\n",
    "from sklearn.naive_bayes import MultinomialNB\n",
    "from sklearn.ensemble import RandomForestClassifier\n",
    "from sklearn.svm import SVC\n",
    "from sklearn.neural_network import MLPClassifier\n",
    "\n",
    "# Preprocessing\n",
    "from sklearn.preprocessing import MinMaxScaler\n",
    "\n",
    "from functions.create_classifier import create_classifier, plot_confusion_matrix \n",
    "from functions.test_hyperparameters import test_hyperparameters \n",
    "from functions.balance_dataset import balance_dataset \n",
    "import random\n",
    "\n",
    "import plotly.graph_objects as go\n",
    "from plotly.subplots import make_subplots\n",
    "from PIL import Image\n",
    "\n",
    "import warnings\n",
    "warnings.filterwarnings(\"ignore\")"
   ]
  },
  {
   "cell_type": "markdown",
   "metadata": {},
   "source": [
    "## Config"
   ]
  },
  {
   "cell_type": "code",
   "execution_count": 2,
   "metadata": {},
   "outputs": [],
   "source": [
    "SEED_VAL = 42\n",
    "random.seed(SEED_VAL)\n",
    "np.random.seed(SEED_VAL)"
   ]
  },
  {
   "cell_type": "markdown",
   "metadata": {},
   "source": [
    "## Read files"
   ]
  },
  {
   "cell_type": "code",
   "execution_count": 4,
   "metadata": {},
   "outputs": [],
   "source": [
    "# !unzip '../data/creditcard.zip' -d 'data'"
   ]
  },
  {
   "cell_type": "code",
   "execution_count": 3,
   "metadata": {},
   "outputs": [],
   "source": [
    "df = pd.read_csv(\"../data/creditcard.csv\")"
   ]
  },
  {
   "cell_type": "code",
   "execution_count": 4,
   "metadata": {},
   "outputs": [],
   "source": [
    "df = df.replace(np.nan, 0)"
   ]
  },
  {
   "cell_type": "code",
   "execution_count": 5,
   "metadata": {},
   "outputs": [],
   "source": [
    "y_df = df['Class'][:10000]\n",
    "\n",
    "df = df.drop(['Time', 'Class', 'Amount'], axis=1)\n",
    "X_df = df[:10000]"
   ]
  },
  {
   "cell_type": "markdown",
   "metadata": {},
   "source": [
    "## Split dataset"
   ]
  },
  {
   "cell_type": "code",
   "execution_count": 12,
   "metadata": {},
   "outputs": [
    {
     "name": "stdout",
     "output_type": "stream",
     "text": [
      "Shape of train dataset (6000, 28)\n",
      "Shape of validation dataset (2000, 28)\n",
      "Shape of test dataset (2000, 28)\n"
     ]
    }
   ],
   "source": [
    "X_train, X_test, y_train, y_test = train_test_split(X_df, y_df, test_size=0.2, random_state=SEED_VAL)\n",
    "X_train, X_val, y_train, y_val = train_test_split(X_train, y_train, test_size=0.25, random_state=SEED_VAL)\n",
    "\n",
    "print('Shape of train dataset', X_train.shape)\n",
    "print('Shape of validation dataset', X_val.shape)\n",
    "print('Shape of test dataset', X_test.shape)"
   ]
  },
  {
   "cell_type": "markdown",
   "metadata": {},
   "source": [
    "## Balance dataset - choose %"
   ]
  },
  {
   "cell_type": "markdown",
   "metadata": {},
   "source": [
    "Analyzing the proportion of fraudulent samples:"
   ]
  },
  {
   "cell_type": "code",
   "execution_count": 13,
   "metadata": {},
   "outputs": [
    {
     "data": {
      "text/plain": [
       "0    0.996333\n",
       "1    0.003667\n",
       "Name: Class, dtype: float64"
      ]
     },
     "execution_count": 13,
     "metadata": {},
     "output_type": "execute_result"
    }
   ],
   "source": [
    "y_train.value_counts(normalize=True)"
   ]
  },
  {
   "cell_type": "markdown",
   "metadata": {},
   "source": [
    "The fraudulent samples are approximately 4% of the dataset, so we are dealing with an unbalanced dataset."
   ]
  },
  {
   "cell_type": "markdown",
   "metadata": {},
   "source": [
    "Define not balanced dataset"
   ]
  },
  {
   "cell_type": "code",
   "execution_count": 14,
   "metadata": {},
   "outputs": [],
   "source": [
    "X_train_not_balanced_04 = X_train\n",
    "y_train_not_balanced_04 = y_train"
   ]
  },
  {
   "cell_type": "markdown",
   "metadata": {},
   "source": [
    "##### Define balanced dataset using oversampling"
   ]
  },
  {
   "cell_type": "code",
   "execution_count": 9,
   "metadata": {},
   "outputs": [
    {
     "name": "stdout",
     "output_type": "stream",
     "text": [
      "10%:\n",
      "X_train.shape (6647, 28)\n",
      "\n",
      "20%:\n",
      "X_train.shape (7478, 28)\n",
      "\n",
      "30%:\n",
      "X_train.shape (8548, 28)\n",
      "\n",
      "40%:\n",
      "X_train.shape (9965, 28)\n",
      "\n",
      "50%:\n",
      "X_train.shape (11956, 28)\n"
     ]
    }
   ],
   "source": [
    "X_train_balanced_10, y_train_balanced_10 = balance_dataset('oversampling', X_train, y_train, 0.112) # 10% fraud\n",
    "X_train_balanced_20, y_train_balanced_20 = balance_dataset('oversampling', X_train, y_train, 0.251) # 20% fraud\n",
    "X_train_balanced_30, y_train_balanced_30 = balance_dataset('oversampling', X_train, y_train, 0.43)  # 30% fraud\n",
    "X_train_balanced_40, y_train_balanced_40 = balance_dataset('oversampling', X_train, y_train, 0.667) # 40% fraud\n",
    "X_train_balanced_50, y_train_balanced_50 = balance_dataset('oversampling', X_train, y_train, 1)     # 50% fraud\n",
    "\n",
    "print('10%:')\n",
    "print('X_train.shape', X_train_balanced_10.shape)\n",
    "\n",
    "print('\\n20%:')\n",
    "print('X_train.shape', X_train_balanced_20.shape)\n",
    "\n",
    "print('\\n30%:')\n",
    "print('X_train.shape', X_train_balanced_30.shape)\n",
    "\n",
    "print('\\n40%:')\n",
    "print('X_train.shape', X_train_balanced_40.shape)\n",
    "\n",
    "print('\\n50%:')\n",
    "print('X_train.shape', X_train_balanced_50.shape)"
   ]
  },
  {
   "cell_type": "code",
   "execution_count": 12,
   "metadata": {},
   "outputs": [
    {
     "data": {
      "text/plain": [
       "0    0.5\n",
       "1    0.5\n",
       "Name: Class, dtype: float64"
      ]
     },
     "execution_count": 12,
     "metadata": {},
     "output_type": "execute_result"
    }
   ],
   "source": [
    "y_train_balanced_50.value_counts(normalize=True)"
   ]
  },
  {
   "cell_type": "markdown",
   "metadata": {},
   "source": [
    "##### Define balanced dataset using undersampling"
   ]
  },
  {
   "cell_type": "code",
   "execution_count": 15,
   "metadata": {},
   "outputs": [
    {
     "name": "stdout",
     "output_type": "stream",
     "text": [
      "10%:\n",
      "X_train.shape (218, 28)\n",
      "\n",
      "20%:\n",
      "X_train.shape (109, 28)\n",
      "\n",
      "30%:\n",
      "X_train.shape (73, 28)\n",
      "\n",
      "40%:\n",
      "X_train.shape (54, 28)\n",
      "\n",
      "50%:\n",
      "X_train.shape (44, 28)\n"
     ]
    }
   ],
   "source": [
    "X_train_balanced_us_10, y_train_balanced_us_10 = balance_dataset('undersampling', X_train, y_train, 0.112) # 10% fraud\n",
    "X_train_balanced_us_20, y_train_balanced_us_20 = balance_dataset('undersampling', X_train, y_train, 0.251) # 20% fraud\n",
    "X_train_balanced_us_30, y_train_balanced_us_30 = balance_dataset('undersampling', X_train, y_train, 0.43)  # 30% fraud\n",
    "X_train_balanced_us_40, y_train_balanced_us_40 = balance_dataset('undersampling', X_train, y_train, 0.667) # 40% fraud\n",
    "X_train_balanced_us_50, y_train_balanced_us_50 = balance_dataset('undersampling', X_train, y_train, 1)     # 50% fraud\n",
    "\n",
    "print('10%:')\n",
    "print('X_train.shape', X_train_balanced_us_10.shape)\n",
    "\n",
    "print('\\n20%:')\n",
    "print('X_train.shape', X_train_balanced_us_20.shape)\n",
    "\n",
    "print('\\n30%:')\n",
    "print('X_train.shape', X_train_balanced_us_30.shape)\n",
    "\n",
    "print('\\n40%:')\n",
    "print('X_train.shape', X_train_balanced_us_40.shape)\n",
    "\n",
    "print('\\n50%:')\n",
    "print('X_train.shape', X_train_balanced_us_50.shape)"
   ]
  },
  {
   "cell_type": "code",
   "execution_count": 16,
   "metadata": {},
   "outputs": [
    {
     "data": {
      "text/plain": [
       "0    0.5\n",
       "1    0.5\n",
       "Name: Class, dtype: float64"
      ]
     },
     "execution_count": 16,
     "metadata": {},
     "output_type": "execute_result"
    }
   ],
   "source": [
    "y_train_balanced_us_50.value_counts(normalize=True)"
   ]
  },
  {
   "cell_type": "markdown",
   "metadata": {},
   "source": [
    "#### Normalize data for Naive Bayes"
   ]
  },
  {
   "cell_type": "code",
   "execution_count": 17,
   "metadata": {},
   "outputs": [],
   "source": [
    "scaler = MinMaxScaler()\n",
    "\n",
    "# Train\n",
    "X_train_not_balanced_04_normalized = scaler.fit(X_train_not_balanced_04).transform(X_train_not_balanced_04)\n",
    "\n",
    "X_train_balanced_10_normalized = scaler.fit(X_train_balanced_10).transform(X_train_balanced_10)\n",
    "X_train_balanced_20_normalized = scaler.fit(X_train_balanced_20).transform(X_train_balanced_20)\n",
    "X_train_balanced_30_normalized = scaler.fit(X_train_balanced_30).transform(X_train_balanced_30)\n",
    "X_train_balanced_40_normalized = scaler.fit(X_train_balanced_40).transform(X_train_balanced_40)\n",
    "X_train_balanced_50_normalized = scaler.fit(X_train_balanced_50).transform(X_train_balanced_50)\n",
    "\n",
    "X_train_balanced_us_10_normalized = scaler.fit(X_train_balanced_us_10).transform(X_train_balanced_us_10)\n",
    "X_train_balanced_us_20_normalized = scaler.fit(X_train_balanced_us_20).transform(X_train_balanced_us_20)\n",
    "X_train_balanced_us_30_normalized = scaler.fit(X_train_balanced_us_30).transform(X_train_balanced_us_30)\n",
    "X_train_balanced_us_40_normalized = scaler.fit(X_train_balanced_us_40).transform(X_train_balanced_us_40)\n",
    "X_train_balanced_us_50_normalized = scaler.fit(X_train_balanced_us_50).transform(X_train_balanced_us_50)\n",
    "\n",
    "# Validation\n",
    "X_val_normalized = scaler.fit(X_val).transform(X_val)\n",
    "\n",
    "# Test\n",
    "X_test_normalized = scaler.fit(X_test).transform(X_test)"
   ]
  },
  {
   "cell_type": "markdown",
   "metadata": {},
   "source": [
    "#### Classification - original data (0.04%)"
   ]
  },
  {
   "cell_type": "markdown",
   "metadata": {},
   "source": [
    "##### Test hyperparameters"
   ]
  },
  {
   "cell_type": "code",
   "execution_count": 21,
   "metadata": {},
   "outputs": [
    {
     "name": "stdout",
     "output_type": "stream",
     "text": [
      "Best hyperparameters based on f1 score for Naive Bayes: {'alpha': 1}\n",
      "Best hyperparameters based on f1 score for SVM: {'kernel': 'poly', 'C': 10}\n",
      "Best hyperparameters based on f1 score for Random Forest: {'n_estimators': 1000, 'min_samples_split': 5, 'min_samples_leaf': 2, 'max_features': 'auto', 'max_depth': 100, 'criterion': 'entropy'}\n",
      "Best hyperparameters based on f1 score for Multilayer Perceptron: {'solver': 'adam', 'learning_rate': 'constant', 'hidden_layer_sizes': (80,), 'alpha': 0.0001, 'activation': 'tanh'}\n"
     ]
    }
   ],
   "source": [
    "test_hyperparameters('Naive Bayes', X_val_normalized, y_val)\n",
    "test_hyperparameters('SVM', X_val, y_val)\n",
    "test_hyperparameters('Random Forest', X_val, y_val)\n",
    "test_hyperparameters('Multilayer Perceptron', X_val, y_val)"
   ]
  },
  {
   "cell_type": "markdown",
   "metadata": {},
   "source": [
    "##### Classificate"
   ]
  },
  {
   "cell_type": "markdown",
   "metadata": {},
   "source": [
    "Naive Bayes"
   ]
  },
  {
   "cell_type": "code",
   "execution_count": 18,
   "metadata": {},
   "outputs": [
    {
     "name": "stdout",
     "output_type": "stream",
     "text": [
      "Classification report: \n",
      "              precision    recall  f1-score   support\n",
      "\n",
      "           0       1.00      1.00      1.00      1996\n",
      "           1       1.00      0.00      0.00         4\n",
      "\n",
      "    accuracy                           1.00      2000\n",
      "   macro avg       1.00      0.50      0.50      2000\n",
      "weighted avg       1.00      1.00      1.00      2000\n",
      "\n",
      "Confusion Matrix: \n"
     ]
    },
    {
     "data": {
      "image/png": "[encoded data removed]",
      "text/plain": [
       "<Figure size 432x288 with 2 Axes>"
      ]
     },
     "metadata": {
      "needs_background": "light"
     },
     "output_type": "display_data"
    }
   ],
   "source": [
    "nb_clf = MultinomialNB(alpha=1)\n",
    "\n",
    "y_pred = create_classifier(nb_clf, X_train_not_balanced_04_normalized, y_train_not_balanced_04, \n",
    "                          X_val_normalized, y_val)\n",
    "\n",
    "print('Confusion Matrix: ')\n",
    "plot_confusion_matrix(nb_clf, X_val_normalized, y_val)"
   ]
  },
  {
   "cell_type": "markdown",
   "metadata": {},
   "source": [
    "Support Vector Machine"
   ]
  },
  {
   "cell_type": "code",
   "execution_count": 24,
   "metadata": {},
   "outputs": [
    {
     "name": "stdout",
     "output_type": "stream",
     "text": [
      "Classification report: \n",
      "              precision    recall  f1-score   support\n",
      "\n",
      "           0       1.00      1.00      1.00      1996\n",
      "           1       0.80      1.00      0.89         4\n",
      "\n",
      "    accuracy                           1.00      2000\n",
      "   macro avg       0.90      1.00      0.94      2000\n",
      "weighted avg       1.00      1.00      1.00      2000\n",
      "\n",
      "Confusion Matrix: \n"
     ]
    },
    {
     "data": {
      "image/png": "[encoded data removed]",
      "text/plain": [
       "<Figure size 432x288 with 2 Axes>"
      ]
     },
     "metadata": {
      "needs_background": "light"
     },
     "output_type": "display_data"
    }
   ],
   "source": [
    "svm_clf = SVC(kernel='poly', C=10, random_state=SEED_VAL)\n",
    "\n",
    "y_pred = create_classifier(svm_clf, X_train_not_balanced_04, y_train_not_balanced_04, \n",
    "                          X_val, y_val)\n",
    "\n",
    "print('Confusion Matrix: ')\n",
    "plot_confusion_matrix(svm_clf, X_val, y_val)"
   ]
  },
  {
   "cell_type": "markdown",
   "metadata": {},
   "source": [
    "Random Forest"
   ]
  },
  {
   "cell_type": "code",
   "execution_count": 25,
   "metadata": {},
   "outputs": [
    {
     "name": "stdout",
     "output_type": "stream",
     "text": [
      "Classification report: \n",
      "              precision    recall  f1-score   support\n",
      "\n",
      "           0       1.00      1.00      1.00      1996\n",
      "           1       1.00      1.00      1.00         4\n",
      "\n",
      "    accuracy                           1.00      2000\n",
      "   macro avg       1.00      1.00      1.00      2000\n",
      "weighted avg       1.00      1.00      1.00      2000\n",
      "\n",
      "Confusion Matrix: \n"
     ]
    },
    {
     "data": {
      "image/png": "[encoded data removed]",
      "text/plain": [
       "<Figure size 432x288 with 2 Axes>"
      ]
     },
     "metadata": {
      "needs_background": "light"
     },
     "output_type": "display_data"
    }
   ],
   "source": [
    "rf_clf = RandomForestClassifier(n_estimators=1000, min_samples_split=5, min_samples_leaf=2, max_features='auto', max_depth=100, criterion='entropy', random_state=SEED_VAL)\n",
    "\n",
    "y_pred = create_classifier(rf_clf, X_train_not_balanced_04, y_train_not_balanced_04, \n",
    "                          X_val, y_val)\n",
    "\n",
    "print('Confusion Matrix: ')\n",
    "plot_confusion_matrix(rf_clf, X_val, y_val)"
   ]
  },
  {
   "cell_type": "markdown",
   "metadata": {},
   "source": [
    "Multilayer Perceptron"
   ]
  },
  {
   "cell_type": "code",
   "execution_count": 26,
   "metadata": {},
   "outputs": [
    {
     "name": "stdout",
     "output_type": "stream",
     "text": [
      "Classification report: \n",
      "              precision    recall  f1-score   support\n",
      "\n",
      "           0       1.00      1.00      1.00      1996\n",
      "           1       1.00      0.75      0.86         4\n",
      "\n",
      "    accuracy                           1.00      2000\n",
      "   macro avg       1.00      0.88      0.93      2000\n",
      "weighted avg       1.00      1.00      1.00      2000\n",
      "\n",
      "Confusion Matrix: \n"
     ]
    },
    {
     "data": {
      "image/png": "[encoded data removed]",
      "text/plain": [
       "<Figure size 432x288 with 2 Axes>"
      ]
     },
     "metadata": {
      "needs_background": "light"
     },
     "output_type": "display_data"
    }
   ],
   "source": [
    "mlp_clf = MLPClassifier(solver='adam', learning_rate='constant', hidden_layer_sizes=(80,), alpha=0.0001, activation='tanh', random_state=SEED_VAL)\n",
    "\n",
    "y_pred = create_classifier(mlp_clf, X_train_not_balanced_04, y_train_not_balanced_04, \n",
    "                          X_val, y_val)\n",
    "\n",
    "print('Confusion Matrix: ')\n",
    "plot_confusion_matrix(mlp_clf, X_val, y_val)"
   ]
  },
  {
   "cell_type": "markdown",
   "metadata": {},
   "source": [
    "#### Classification - oversampling data"
   ]
  },
  {
   "cell_type": "markdown",
   "metadata": {},
   "source": [
    "##### Classificate (10% fraud)"
   ]
  },
  {
   "cell_type": "markdown",
   "metadata": {},
   "source": [
    "Naive Bayes"
   ]
  },
  {
   "cell_type": "code",
   "execution_count": 27,
   "metadata": {},
   "outputs": [
    {
     "name": "stdout",
     "output_type": "stream",
     "text": [
      "Classification report: \n",
      "              precision    recall  f1-score   support\n",
      "\n",
      "           0       1.00      1.00      1.00      1996\n",
      "           1       1.00      0.25      0.40         4\n",
      "\n",
      "    accuracy                           1.00      2000\n",
      "   macro avg       1.00      0.62      0.70      2000\n",
      "weighted avg       1.00      1.00      1.00      2000\n",
      "\n",
      "Confusion Matrix: \n"
     ]
    },
    {
     "data": {
      "image/png": "[encoded data removed]",
      "text/plain": [
       "<Figure size 432x288 with 2 Axes>"
      ]
     },
     "metadata": {
      "needs_background": "light"
     },
     "output_type": "display_data"
    }
   ],
   "source": [
    "nb_clf = MultinomialNB(alpha=1)\n",
    "\n",
    "y_pred = create_classifier(nb_clf, X_train_balanced_10_normalized, y_train_balanced_10, \n",
    "                          X_val_normalized, y_val)\n",
    "\n",
    "print('Confusion Matrix: ')\n",
    "plot_confusion_matrix(nb_clf, X_val_normalized, y_val)"
   ]
  },
  {
   "cell_type": "markdown",
   "metadata": {},
   "source": [
    "Support Vector Machine"
   ]
  },
  {
   "cell_type": "code",
   "execution_count": 28,
   "metadata": {},
   "outputs": [
    {
     "name": "stdout",
     "output_type": "stream",
     "text": [
      "Classification report: \n",
      "              precision    recall  f1-score   support\n",
      "\n",
      "           0       1.00      1.00      1.00      1996\n",
      "           1       0.80      1.00      0.89         4\n",
      "\n",
      "    accuracy                           1.00      2000\n",
      "   macro avg       0.90      1.00      0.94      2000\n",
      "weighted avg       1.00      1.00      1.00      2000\n",
      "\n",
      "Confusion Matrix: \n"
     ]
    },
    {
     "data": {
      "image/png": "[encoded data removed]",
      "text/plain": [
       "<Figure size 432x288 with 2 Axes>"
      ]
     },
     "metadata": {
      "needs_background": "light"
     },
     "output_type": "display_data"
    }
   ],
   "source": [
    "svm_clf = SVC(kernel='poly', C=10, random_state=SEED_VAL)\n",
    "\n",
    "y_pred = create_classifier(svm_clf, X_train_balanced_10, y_train_balanced_10, \n",
    "                          X_val, y_val)\n",
    "\n",
    "print('Confusion Matrix: ')\n",
    "plot_confusion_matrix(svm_clf, X_val, y_val)"
   ]
  },
  {
   "cell_type": "markdown",
   "metadata": {},
   "source": [
    "Random Forest"
   ]
  },
  {
   "cell_type": "code",
   "execution_count": 29,
   "metadata": {},
   "outputs": [
    {
     "name": "stdout",
     "output_type": "stream",
     "text": [
      "Classification report: \n",
      "              precision    recall  f1-score   support\n",
      "\n",
      "           0       1.00      1.00      1.00      1996\n",
      "           1       1.00      1.00      1.00         4\n",
      "\n",
      "    accuracy                           1.00      2000\n",
      "   macro avg       1.00      1.00      1.00      2000\n",
      "weighted avg       1.00      1.00      1.00      2000\n",
      "\n",
      "Confusion Matrix: \n"
     ]
    },
    {
     "data": {
      "image/png": "[encoded data removed]",
      "text/plain": [
       "<Figure size 432x288 with 2 Axes>"
      ]
     },
     "metadata": {
      "needs_background": "light"
     },
     "output_type": "display_data"
    }
   ],
   "source": [
    "rf_clf = RandomForestClassifier(n_estimators=1000, min_samples_split=5, min_samples_leaf=2, max_features='auto', max_depth=100, criterion='entropy', random_state=SEED_VAL)\n",
    "\n",
    "y_pred = create_classifier(rf_clf, X_train_balanced_10, y_train_balanced_10, \n",
    "                          X_val, y_val)\n",
    "\n",
    "print('Confusion Matrix: ')\n",
    "plot_confusion_matrix(rf_clf, X_val, y_val)"
   ]
  },
  {
   "cell_type": "markdown",
   "metadata": {},
   "source": [
    "Multilayer Perceptron"
   ]
  },
  {
   "cell_type": "code",
   "execution_count": 30,
   "metadata": {},
   "outputs": [
    {
     "name": "stdout",
     "output_type": "stream",
     "text": [
      "Classification report: \n",
      "              precision    recall  f1-score   support\n",
      "\n",
      "           0       1.00      1.00      1.00      1996\n",
      "           1       0.80      1.00      0.89         4\n",
      "\n",
      "    accuracy                           1.00      2000\n",
      "   macro avg       0.90      1.00      0.94      2000\n",
      "weighted avg       1.00      1.00      1.00      2000\n",
      "\n",
      "Confusion Matrix: \n"
     ]
    },
    {
     "data": {
      "image/png": "[encoded data removed]",
      "text/plain": [
       "<Figure size 432x288 with 2 Axes>"
      ]
     },
     "metadata": {
      "needs_background": "light"
     },
     "output_type": "display_data"
    }
   ],
   "source": [
    "mlp_clf = MLPClassifier(solver='adam', learning_rate='constant', hidden_layer_sizes=(80,), alpha=0.0001, activation='tanh', random_state=SEED_VAL)\n",
    "\n",
    "y_pred = create_classifier(mlp_clf, X_train_balanced_10, y_train_balanced_10, \n",
    "                          X_val, y_val)\n",
    "\n",
    "print('Confusion Matrix: ')\n",
    "plot_confusion_matrix(mlp_clf, X_val, y_val)"
   ]
  },
  {
   "cell_type": "markdown",
   "metadata": {},
   "source": [
    "##### Classificate (20% fraud)"
   ]
  },
  {
   "cell_type": "markdown",
   "metadata": {},
   "source": [
    "Naive Bayes"
   ]
  },
  {
   "cell_type": "code",
   "execution_count": 31,
   "metadata": {},
   "outputs": [
    {
     "name": "stdout",
     "output_type": "stream",
     "text": [
      "Classification report: \n",
      "              precision    recall  f1-score   support\n",
      "\n",
      "           0       1.00      1.00      1.00      1996\n",
      "           1       1.00      0.50      0.67         4\n",
      "\n",
      "    accuracy                           1.00      2000\n",
      "   macro avg       1.00      0.75      0.83      2000\n",
      "weighted avg       1.00      1.00      1.00      2000\n",
      "\n",
      "Confusion Matrix: \n"
     ]
    },
    {
     "data": {
      "image/png": "[encoded data removed]",
      "text/plain": [
       "<Figure size 432x288 with 2 Axes>"
      ]
     },
     "metadata": {
      "needs_background": "light"
     },
     "output_type": "display_data"
    }
   ],
   "source": [
    "nb_clf = MultinomialNB(alpha=1)\n",
    "\n",
    "y_pred = create_classifier(nb_clf, X_train_balanced_20_normalized, y_train_balanced_20, \n",
    "                          X_val_normalized, y_val)\n",
    "\n",
    "print('Confusion Matrix: ')\n",
    "plot_confusion_matrix(nb_clf, X_val_normalized, y_val)"
   ]
  },
  {
   "cell_type": "markdown",
   "metadata": {},
   "source": [
    "Support Vector Machine"
   ]
  },
  {
   "cell_type": "code",
   "execution_count": 32,
   "metadata": {},
   "outputs": [
    {
     "name": "stdout",
     "output_type": "stream",
     "text": [
      "Classification report: \n",
      "              precision    recall  f1-score   support\n",
      "\n",
      "           0       1.00      1.00      1.00      1996\n",
      "           1       1.00      1.00      1.00         4\n",
      "\n",
      "    accuracy                           1.00      2000\n",
      "   macro avg       1.00      1.00      1.00      2000\n",
      "weighted avg       1.00      1.00      1.00      2000\n",
      "\n",
      "Confusion Matrix: \n"
     ]
    },
    {
     "data": {
      "image/png": "[encoded data removed]",
      "text/plain": [
       "<Figure size 432x288 with 2 Axes>"
      ]
     },
     "metadata": {
      "needs_background": "light"
     },
     "output_type": "display_data"
    }
   ],
   "source": [
    "svm_clf = SVC(kernel='poly', C=10, random_state=SEED_VAL)\n",
    "\n",
    "y_pred = create_classifier(svm_clf, X_train_balanced_20, y_train_balanced_20, \n",
    "                          X_val, y_val)\n",
    "\n",
    "print('Confusion Matrix: ')\n",
    "plot_confusion_matrix(svm_clf, X_val, y_val)"
   ]
  },
  {
   "cell_type": "markdown",
   "metadata": {},
   "source": [
    "Random Forest"
   ]
  },
  {
   "cell_type": "code",
   "execution_count": 33,
   "metadata": {},
   "outputs": [
    {
     "name": "stdout",
     "output_type": "stream",
     "text": [
      "Classification report: \n",
      "              precision    recall  f1-score   support\n",
      "\n",
      "           0       1.00      1.00      1.00      1996\n",
      "           1       1.00      1.00      1.00         4\n",
      "\n",
      "    accuracy                           1.00      2000\n",
      "   macro avg       1.00      1.00      1.00      2000\n",
      "weighted avg       1.00      1.00      1.00      2000\n",
      "\n",
      "Confusion Matrix: \n"
     ]
    },
    {
     "data": {
      "image/png": "[encoded data removed]",
      "text/plain": [
       "<Figure size 432x288 with 2 Axes>"
      ]
     },
     "metadata": {
      "needs_background": "light"
     },
     "output_type": "display_data"
    }
   ],
   "source": [
    "rf_clf = RandomForestClassifier(n_estimators=1000, min_samples_split=5, min_samples_leaf=2, max_features='auto', max_depth=100, criterion='entropy', random_state=SEED_VAL)\n",
    "\n",
    "y_pred = create_classifier(rf_clf, X_train_balanced_20, y_train_balanced_20, \n",
    "                          X_val, y_val)\n",
    "\n",
    "print('Confusion Matrix: ')\n",
    "plot_confusion_matrix(rf_clf, X_val, y_val)"
   ]
  },
  {
   "cell_type": "markdown",
   "metadata": {},
   "source": [
    "Multilayer Perceptron"
   ]
  },
  {
   "cell_type": "code",
   "execution_count": 34,
   "metadata": {},
   "outputs": [
    {
     "name": "stdout",
     "output_type": "stream",
     "text": [
      "Classification report: \n",
      "              precision    recall  f1-score   support\n",
      "\n",
      "           0       1.00      1.00      1.00      1996\n",
      "           1       0.80      1.00      0.89         4\n",
      "\n",
      "    accuracy                           1.00      2000\n",
      "   macro avg       0.90      1.00      0.94      2000\n",
      "weighted avg       1.00      1.00      1.00      2000\n",
      "\n",
      "Confusion Matrix: \n"
     ]
    },
    {
     "data": {
      "image/png": "[encoded data removed]",
      "text/plain": [
       "<Figure size 432x288 with 2 Axes>"
      ]
     },
     "metadata": {
      "needs_background": "light"
     },
     "output_type": "display_data"
    }
   ],
   "source": [
    "mlp_clf = MLPClassifier(solver='adam', learning_rate='constant', hidden_layer_sizes=(80,), alpha=0.0001, activation='tanh', random_state=SEED_VAL)\n",
    "\n",
    "y_pred = create_classifier(mlp_clf, X_train_balanced_20, y_train_balanced_20, \n",
    "                          X_val, y_val)\n",
    "\n",
    "print('Confusion Matrix: ')\n",
    "plot_confusion_matrix(mlp_clf, X_val, y_val)"
   ]
  },
  {
   "cell_type": "markdown",
   "metadata": {},
   "source": [
    "##### Classificate (30% fraud)"
   ]
  },
  {
   "cell_type": "markdown",
   "metadata": {},
   "source": [
    "Naive Bayes"
   ]
  },
  {
   "cell_type": "code",
   "execution_count": 35,
   "metadata": {},
   "outputs": [
    {
     "name": "stdout",
     "output_type": "stream",
     "text": [
      "Classification report: \n",
      "              precision    recall  f1-score   support\n",
      "\n",
      "           0       1.00      1.00      1.00      1996\n",
      "           1       1.00      0.75      0.86         4\n",
      "\n",
      "    accuracy                           1.00      2000\n",
      "   macro avg       1.00      0.88      0.93      2000\n",
      "weighted avg       1.00      1.00      1.00      2000\n",
      "\n",
      "Confusion Matrix: \n"
     ]
    },
    {
     "data": {
      "image/png": "[encoded data removed]",
      "text/plain": [
       "<Figure size 432x288 with 2 Axes>"
      ]
     },
     "metadata": {
      "needs_background": "light"
     },
     "output_type": "display_data"
    }
   ],
   "source": [
    "nb_clf = MultinomialNB(alpha=1)\n",
    "\n",
    "y_pred = create_classifier(nb_clf, X_train_balanced_30_normalized, y_train_balanced_30, \n",
    "                          X_val_normalized, y_val)\n",
    "\n",
    "print('Confusion Matrix: ')\n",
    "plot_confusion_matrix(nb_clf, X_val_normalized, y_val)"
   ]
  },
  {
   "cell_type": "markdown",
   "metadata": {},
   "source": [
    "Support Vector Machine"
   ]
  },
  {
   "cell_type": "code",
   "execution_count": 36,
   "metadata": {},
   "outputs": [
    {
     "name": "stdout",
     "output_type": "stream",
     "text": [
      "Classification report: \n",
      "              precision    recall  f1-score   support\n",
      "\n",
      "           0       1.00      1.00      1.00      1996\n",
      "           1       1.00      1.00      1.00         4\n",
      "\n",
      "    accuracy                           1.00      2000\n",
      "   macro avg       1.00      1.00      1.00      2000\n",
      "weighted avg       1.00      1.00      1.00      2000\n",
      "\n",
      "Confusion Matrix: \n"
     ]
    },
    {
     "data": {
      "image/png": "[encoded data removed]",
      "text/plain": [
       "<Figure size 432x288 with 2 Axes>"
      ]
     },
     "metadata": {
      "needs_background": "light"
     },
     "output_type": "display_data"
    }
   ],
   "source": [
    "svm_clf = SVC(kernel='poly', C=10, random_state=SEED_VAL)\n",
    "\n",
    "y_pred = create_classifier(svm_clf, X_train_balanced_30, y_train_balanced_30, \n",
    "                          X_val, y_val)\n",
    "\n",
    "print('Confusion Matrix: ')\n",
    "plot_confusion_matrix(svm_clf, X_val, y_val)"
   ]
  },
  {
   "cell_type": "markdown",
   "metadata": {},
   "source": [
    "Random Forest"
   ]
  },
  {
   "cell_type": "code",
   "execution_count": 37,
   "metadata": {},
   "outputs": [
    {
     "name": "stdout",
     "output_type": "stream",
     "text": [
      "Classification report: \n",
      "              precision    recall  f1-score   support\n",
      "\n",
      "           0       1.00      1.00      1.00      1996\n",
      "           1       1.00      1.00      1.00         4\n",
      "\n",
      "    accuracy                           1.00      2000\n",
      "   macro avg       1.00      1.00      1.00      2000\n",
      "weighted avg       1.00      1.00      1.00      2000\n",
      "\n",
      "Confusion Matrix: \n"
     ]
    },
    {
     "data": {
      "image/png": "[encoded data removed]",
      "text/plain": [
       "<Figure size 432x288 with 2 Axes>"
      ]
     },
     "metadata": {
      "needs_background": "light"
     },
     "output_type": "display_data"
    }
   ],
   "source": [
    "rf_clf = RandomForestClassifier(n_estimators=1000, min_samples_split=5, min_samples_leaf=2, max_features='auto', max_depth=100, criterion='entropy', random_state=SEED_VAL)\n",
    "\n",
    "y_pred = create_classifier(rf_clf, X_train_balanced_30, y_train_balanced_30, \n",
    "                          X_val, y_val)\n",
    "\n",
    "print('Confusion Matrix: ')\n",
    "plot_confusion_matrix(rf_clf, X_val, y_val)"
   ]
  },
  {
   "cell_type": "markdown",
   "metadata": {},
   "source": [
    "Multilayer Perceptron"
   ]
  },
  {
   "cell_type": "code",
   "execution_count": 38,
   "metadata": {},
   "outputs": [
    {
     "name": "stdout",
     "output_type": "stream",
     "text": [
      "Classification report: \n",
      "              precision    recall  f1-score   support\n",
      "\n",
      "           0       1.00      1.00      1.00      1996\n",
      "           1       0.80      1.00      0.89         4\n",
      "\n",
      "    accuracy                           1.00      2000\n",
      "   macro avg       0.90      1.00      0.94      2000\n",
      "weighted avg       1.00      1.00      1.00      2000\n",
      "\n",
      "Confusion Matrix: \n"
     ]
    },
    {
     "data": {
      "image/png": "[encoded data removed]",
      "text/plain": [
       "<Figure size 432x288 with 2 Axes>"
      ]
     },
     "metadata": {
      "needs_background": "light"
     },
     "output_type": "display_data"
    }
   ],
   "source": [
    "mlp_clf = MLPClassifier(solver='adam', learning_rate='constant', hidden_layer_sizes=(80,), alpha=0.0001, activation='tanh', random_state=SEED_VAL)\n",
    "\n",
    "y_pred = create_classifier(mlp_clf, X_train_balanced_30, y_train_balanced_30, \n",
    "                          X_val, y_val)\n",
    "\n",
    "print('Confusion Matrix: ')\n",
    "plot_confusion_matrix(mlp_clf, X_val, y_val)"
   ]
  },
  {
   "cell_type": "markdown",
   "metadata": {},
   "source": [
    "##### Classificate (40% fraud)"
   ]
  },
  {
   "cell_type": "markdown",
   "metadata": {},
   "source": [
    "Naive Bayes"
   ]
  },
  {
   "cell_type": "code",
   "execution_count": 39,
   "metadata": {},
   "outputs": [
    {
     "name": "stdout",
     "output_type": "stream",
     "text": [
      "Classification report: \n",
      "              precision    recall  f1-score   support\n",
      "\n",
      "           0       1.00      1.00      1.00      1996\n",
      "           1       1.00      1.00      1.00         4\n",
      "\n",
      "    accuracy                           1.00      2000\n",
      "   macro avg       1.00      1.00      1.00      2000\n",
      "weighted avg       1.00      1.00      1.00      2000\n",
      "\n",
      "Confusion Matrix: \n"
     ]
    },
    {
     "data": {
      "image/png": "[encoded data removed]",
      "text/plain": [
       "<Figure size 432x288 with 2 Axes>"
      ]
     },
     "metadata": {
      "needs_background": "light"
     },
     "output_type": "display_data"
    }
   ],
   "source": [
    "nb_clf = MultinomialNB(alpha=1)\n",
    "\n",
    "y_pred = create_classifier(nb_clf, X_train_balanced_40_normalized, y_train_balanced_40, \n",
    "                          X_val_normalized, y_val)\n",
    "\n",
    "print('Confusion Matrix: ')\n",
    "plot_confusion_matrix(nb_clf, X_val_normalized, y_val)"
   ]
  },
  {
   "cell_type": "markdown",
   "metadata": {},
   "source": [
    "Support Vector Machine"
   ]
  },
  {
   "cell_type": "code",
   "execution_count": 40,
   "metadata": {},
   "outputs": [
    {
     "name": "stdout",
     "output_type": "stream",
     "text": [
      "Classification report: \n",
      "              precision    recall  f1-score   support\n",
      "\n",
      "           0       1.00      1.00      1.00      1996\n",
      "           1       0.80      1.00      0.89         4\n",
      "\n",
      "    accuracy                           1.00      2000\n",
      "   macro avg       0.90      1.00      0.94      2000\n",
      "weighted avg       1.00      1.00      1.00      2000\n",
      "\n",
      "Confusion Matrix: \n"
     ]
    },
    {
     "data": {
      "image/png": "[encoded data removed]",
      "text/plain": [
       "<Figure size 432x288 with 2 Axes>"
      ]
     },
     "metadata": {
      "needs_background": "light"
     },
     "output_type": "display_data"
    }
   ],
   "source": [
    "svm_clf = SVC(kernel='poly', C=10, random_state=SEED_VAL)\n",
    "\n",
    "y_pred = create_classifier(svm_clf, X_train_balanced_40, y_train_balanced_40, \n",
    "                          X_val, y_val)\n",
    "\n",
    "print('Confusion Matrix: ')\n",
    "plot_confusion_matrix(svm_clf, X_val, y_val)"
   ]
  },
  {
   "cell_type": "markdown",
   "metadata": {},
   "source": [
    "Random Forest"
   ]
  },
  {
   "cell_type": "code",
   "execution_count": 41,
   "metadata": {},
   "outputs": [
    {
     "name": "stdout",
     "output_type": "stream",
     "text": [
      "Classification report: \n",
      "              precision    recall  f1-score   support\n",
      "\n",
      "           0       1.00      1.00      1.00      1996\n",
      "           1       1.00      1.00      1.00         4\n",
      "\n",
      "    accuracy                           1.00      2000\n",
      "   macro avg       1.00      1.00      1.00      2000\n",
      "weighted avg       1.00      1.00      1.00      2000\n",
      "\n",
      "Confusion Matrix: \n"
     ]
    },
    {
     "data": {
      "image/png": "[encoded data removed]",
      "text/plain": [
       "<Figure size 432x288 with 2 Axes>"
      ]
     },
     "metadata": {
      "needs_background": "light"
     },
     "output_type": "display_data"
    }
   ],
   "source": [
    "rf_clf = RandomForestClassifier(n_estimators=1000, min_samples_split=5, min_samples_leaf=2, max_features='auto', max_depth=100, criterion='entropy', random_state=SEED_VAL)\n",
    "\n",
    "y_pred = create_classifier(rf_clf, X_train_balanced_40, y_train_balanced_40, \n",
    "                          X_val, y_val)\n",
    "\n",
    "print('Confusion Matrix: ')\n",
    "plot_confusion_matrix(rf_clf, X_val, y_val)"
   ]
  },
  {
   "cell_type": "markdown",
   "metadata": {},
   "source": [
    "Multilayer Perceptron"
   ]
  },
  {
   "cell_type": "code",
   "execution_count": 42,
   "metadata": {},
   "outputs": [
    {
     "name": "stdout",
     "output_type": "stream",
     "text": [
      "Classification report: \n",
      "              precision    recall  f1-score   support\n",
      "\n",
      "           0       1.00      1.00      1.00      1996\n",
      "           1       0.80      1.00      0.89         4\n",
      "\n",
      "    accuracy                           1.00      2000\n",
      "   macro avg       0.90      1.00      0.94      2000\n",
      "weighted avg       1.00      1.00      1.00      2000\n",
      "\n",
      "Confusion Matrix: \n"
     ]
    },
    {
     "data": {
      "image/png": "[encoded data removed]",
      "text/plain": [
       "<Figure size 432x288 with 2 Axes>"
      ]
     },
     "metadata": {
      "needs_background": "light"
     },
     "output_type": "display_data"
    }
   ],
   "source": [
    "mlp_clf = MLPClassifier(solver='adam', learning_rate='constant', hidden_layer_sizes=(80,), alpha=0.0001, activation='tanh', random_state=SEED_VAL)\n",
    "\n",
    "y_pred = create_classifier(mlp_clf, X_train_balanced_40, y_train_balanced_40, \n",
    "                          X_val, y_val)\n",
    "\n",
    "print('Confusion Matrix: ')\n",
    "plot_confusion_matrix(mlp_clf, X_val, y_val)"
   ]
  },
  {
   "cell_type": "markdown",
   "metadata": {},
   "source": [
    "##### Classificate (50% fraud)"
   ]
  },
  {
   "cell_type": "markdown",
   "metadata": {},
   "source": [
    "Naive Bayes"
   ]
  },
  {
   "cell_type": "code",
   "execution_count": 43,
   "metadata": {},
   "outputs": [
    {
     "name": "stdout",
     "output_type": "stream",
     "text": [
      "Classification report: \n",
      "              precision    recall  f1-score   support\n",
      "\n",
      "           0       1.00      1.00      1.00      1996\n",
      "           1       0.67      1.00      0.80         4\n",
      "\n",
      "    accuracy                           1.00      2000\n",
      "   macro avg       0.83      1.00      0.90      2000\n",
      "weighted avg       1.00      1.00      1.00      2000\n",
      "\n",
      "Confusion Matrix: \n"
     ]
    },
    {
     "data": {
      "image/png": "[encoded data removed]",
      "text/plain": [
       "<Figure size 432x288 with 2 Axes>"
      ]
     },
     "metadata": {
      "needs_background": "light"
     },
     "output_type": "display_data"
    }
   ],
   "source": [
    "nb_clf = MultinomialNB(alpha=1)\n",
    "\n",
    "y_pred = create_classifier(nb_clf, X_train_balanced_50_normalized, y_train_balanced_50, \n",
    "                          X_val_normalized, y_val)\n",
    "\n",
    "print('Confusion Matrix: ')\n",
    "plot_confusion_matrix(nb_clf, X_val_normalized, y_val)"
   ]
  },
  {
   "cell_type": "markdown",
   "metadata": {},
   "source": [
    "Support Vector Machine"
   ]
  },
  {
   "cell_type": "code",
   "execution_count": 44,
   "metadata": {},
   "outputs": [
    {
     "name": "stdout",
     "output_type": "stream",
     "text": [
      "Classification report: \n",
      "              precision    recall  f1-score   support\n",
      "\n",
      "           0       1.00      1.00      1.00      1996\n",
      "           1       0.80      1.00      0.89         4\n",
      "\n",
      "    accuracy                           1.00      2000\n",
      "   macro avg       0.90      1.00      0.94      2000\n",
      "weighted avg       1.00      1.00      1.00      2000\n",
      "\n",
      "Confusion Matrix: \n"
     ]
    },
    {
     "data": {
      "image/png": "[encoded data removed]",
      "text/plain": [
       "<Figure size 432x288 with 2 Axes>"
      ]
     },
     "metadata": {
      "needs_background": "light"
     },
     "output_type": "display_data"
    }
   ],
   "source": [
    "svm_clf = SVC(kernel='poly', C=10, random_state=SEED_VAL)\n",
    "\n",
    "y_pred = create_classifier(svm_clf, X_train_balanced_50, y_train_balanced_50, \n",
    "                          X_val, y_val)\n",
    "\n",
    "print('Confusion Matrix: ')\n",
    "plot_confusion_matrix(svm_clf, X_val, y_val)"
   ]
  },
  {
   "cell_type": "markdown",
   "metadata": {},
   "source": [
    "Random Forest"
   ]
  },
  {
   "cell_type": "code",
   "execution_count": 45,
   "metadata": {},
   "outputs": [
    {
     "name": "stdout",
     "output_type": "stream",
     "text": [
      "Classification report: \n",
      "              precision    recall  f1-score   support\n",
      "\n",
      "           0       1.00      1.00      1.00      1996\n",
      "           1       1.00      1.00      1.00         4\n",
      "\n",
      "    accuracy                           1.00      2000\n",
      "   macro avg       1.00      1.00      1.00      2000\n",
      "weighted avg       1.00      1.00      1.00      2000\n",
      "\n",
      "Confusion Matrix: \n"
     ]
    },
    {
     "data": {
      "image/png": "[encoded data removed]",
      "text/plain": [
       "<Figure size 432x288 with 2 Axes>"
      ]
     },
     "metadata": {
      "needs_background": "light"
     },
     "output_type": "display_data"
    }
   ],
   "source": [
    "rf_clf = RandomForestClassifier(n_estimators=1000, min_samples_split=5, min_samples_leaf=2, max_features='auto', max_depth=100, criterion='entropy', random_state=SEED_VAL)\n",
    "\n",
    "y_pred = create_classifier(rf_clf, X_train_balanced_50, y_train_balanced_50, \n",
    "                          X_val, y_val)\n",
    "\n",
    "print('Confusion Matrix: ')\n",
    "plot_confusion_matrix(rf_clf, X_val, y_val)"
   ]
  },
  {
   "cell_type": "markdown",
   "metadata": {},
   "source": [
    "Multilayer Perceptron"
   ]
  },
  {
   "cell_type": "code",
   "execution_count": 46,
   "metadata": {},
   "outputs": [
    {
     "name": "stdout",
     "output_type": "stream",
     "text": [
      "Classification report: \n",
      "              precision    recall  f1-score   support\n",
      "\n",
      "           0       1.00      1.00      1.00      1996\n",
      "           1       0.80      1.00      0.89         4\n",
      "\n",
      "    accuracy                           1.00      2000\n",
      "   macro avg       0.90      1.00      0.94      2000\n",
      "weighted avg       1.00      1.00      1.00      2000\n",
      "\n",
      "Confusion Matrix: \n"
     ]
    },
    {
     "data": {
      "image/png": "[encoded data removed]",
      "text/plain": [
       "<Figure size 432x288 with 2 Axes>"
      ]
     },
     "metadata": {
      "needs_background": "light"
     },
     "output_type": "display_data"
    }
   ],
   "source": [
    "mlp_clf = MLPClassifier(solver='adam', learning_rate='constant', hidden_layer_sizes=(80,), alpha=0.0001, activation='tanh', random_state=SEED_VAL)\n",
    "\n",
    "y_pred = create_classifier(mlp_clf, X_train_balanced_50, y_train_balanced_50, \n",
    "                          X_val, y_val)\n",
    "\n",
    "print('Confusion Matrix: ')\n",
    "plot_confusion_matrix(mlp_clf, X_val, y_val)"
   ]
  },
  {
   "cell_type": "markdown",
   "metadata": {},
   "source": [
    "#### Classification - undersampling data"
   ]
  },
  {
   "cell_type": "markdown",
   "metadata": {},
   "source": [
    "##### Classificate (10% fraud)"
   ]
  },
  {
   "cell_type": "markdown",
   "metadata": {},
   "source": [
    "Naive Bayes"
   ]
  },
  {
   "cell_type": "code",
   "execution_count": 19,
   "metadata": {},
   "outputs": [
    {
     "name": "stdout",
     "output_type": "stream",
     "text": [
      "Classification report: \n",
      "              precision    recall  f1-score   support\n",
      "\n",
      "           0       1.00      1.00      1.00      1996\n",
      "           1       1.00      0.50      0.67         4\n",
      "\n",
      "    accuracy                           1.00      2000\n",
      "   macro avg       1.00      0.75      0.83      2000\n",
      "weighted avg       1.00      1.00      1.00      2000\n",
      "\n",
      "Confusion Matrix: \n"
     ]
    },
    {
     "data": {
      "image/png": "[encoded data removed]",
      "text/plain": [
       "<Figure size 432x288 with 2 Axes>"
      ]
     },
     "metadata": {
      "needs_background": "light"
     },
     "output_type": "display_data"
    }
   ],
   "source": [
    "nb_clf = MultinomialNB(alpha=1)\n",
    "\n",
    "y_pred = create_classifier(nb_clf, X_train_balanced_us_10_normalized, y_train_balanced_us_10, \n",
    "                          X_val_normalized, y_val)\n",
    "\n",
    "print('Confusion Matrix: ')\n",
    "plot_confusion_matrix(nb_clf, X_val_normalized, y_val) "
   ]
  },
  {
   "cell_type": "markdown",
   "metadata": {},
   "source": [
    "Support Vector Machine"
   ]
  },
  {
   "cell_type": "code",
   "execution_count": 20,
   "metadata": {},
   "outputs": [
    {
     "name": "stdout",
     "output_type": "stream",
     "text": [
      "Classification report: \n",
      "              precision    recall  f1-score   support\n",
      "\n",
      "           0       1.00      1.00      1.00      1996\n",
      "           1       0.80      1.00      0.89         4\n",
      "\n",
      "    accuracy                           1.00      2000\n",
      "   macro avg       0.90      1.00      0.94      2000\n",
      "weighted avg       1.00      1.00      1.00      2000\n",
      "\n",
      "Confusion Matrix: \n"
     ]
    },
    {
     "data": {
      "image/png": "[encoded data removed]",
      "text/plain": [
       "<Figure size 432x288 with 2 Axes>"
      ]
     },
     "metadata": {
      "needs_background": "light"
     },
     "output_type": "display_data"
    }
   ],
   "source": [
    "svm_clf = SVC(kernel='poly', C=10, random_state=SEED_VAL)\n",
    "\n",
    "y_pred = create_classifier(svm_clf, X_train_balanced_us_10, y_train_balanced_us_10, \n",
    "                          X_val, y_val)\n",
    "\n",
    "print('Confusion Matrix: ')\n",
    "plot_confusion_matrix(svm_clf, X_val, y_val)"
   ]
  },
  {
   "cell_type": "markdown",
   "metadata": {},
   "source": [
    "Random Forest"
   ]
  },
  {
   "cell_type": "code",
   "execution_count": 21,
   "metadata": {},
   "outputs": [
    {
     "name": "stdout",
     "output_type": "stream",
     "text": [
      "Classification report: \n",
      "              precision    recall  f1-score   support\n",
      "\n",
      "           0       1.00      1.00      1.00      1996\n",
      "           1       0.80      1.00      0.89         4\n",
      "\n",
      "    accuracy                           1.00      2000\n",
      "   macro avg       0.90      1.00      0.94      2000\n",
      "weighted avg       1.00      1.00      1.00      2000\n",
      "\n",
      "Confusion Matrix: \n"
     ]
    },
    {
     "data": {
      "image/png": "[encoded data removed]",
      "text/plain": [
       "<Figure size 432x288 with 2 Axes>"
      ]
     },
     "metadata": {
      "needs_background": "light"
     },
     "output_type": "display_data"
    }
   ],
   "source": [
    "rf_clf = RandomForestClassifier(n_estimators=1000, min_samples_split=5, min_samples_leaf=2, max_features='auto', max_depth=100, criterion='entropy', random_state=SEED_VAL)\n",
    "\n",
    "y_pred = create_classifier(rf_clf, X_train_balanced_us_10, y_train_balanced_us_10, \n",
    "                          X_val, y_val)\n",
    "\n",
    "print('Confusion Matrix: ')\n",
    "plot_confusion_matrix(rf_clf, X_val, y_val)"
   ]
  },
  {
   "cell_type": "markdown",
   "metadata": {},
   "source": [
    "Multilayer Perceptron"
   ]
  },
  {
   "cell_type": "code",
   "execution_count": 22,
   "metadata": {},
   "outputs": [
    {
     "name": "stdout",
     "output_type": "stream",
     "text": [
      "Classification report: \n",
      "              precision    recall  f1-score   support\n",
      "\n",
      "           0       1.00      0.99      0.99      1996\n",
      "           1       0.14      1.00      0.25         4\n",
      "\n",
      "    accuracy                           0.99      2000\n",
      "   macro avg       0.57      0.99      0.62      2000\n",
      "weighted avg       1.00      0.99      0.99      2000\n",
      "\n",
      "Confusion Matrix: \n"
     ]
    },
    {
     "data": {
      "image/png": "[encoded data removed]",
      "text/plain": [
       "<Figure size 432x288 with 2 Axes>"
      ]
     },
     "metadata": {
      "needs_background": "light"
     },
     "output_type": "display_data"
    }
   ],
   "source": [
    "mlp_clf = MLPClassifier(solver='adam', learning_rate='constant', hidden_layer_sizes=(80,), alpha=0.0001, activation='tanh', random_state=SEED_VAL)\n",
    "\n",
    "y_pred = create_classifier(mlp_clf, X_train_balanced_us_10, y_train_balanced_us_10, \n",
    "                          X_val, y_val)\n",
    "\n",
    "print('Confusion Matrix: ')\n",
    "plot_confusion_matrix(mlp_clf, X_val, y_val)"
   ]
  },
  {
   "cell_type": "markdown",
   "metadata": {},
   "source": [
    "##### Classificate (20% fraud)"
   ]
  },
  {
   "cell_type": "markdown",
   "metadata": {},
   "source": [
    "Naive Bayes"
   ]
  },
  {
   "cell_type": "code",
   "execution_count": 23,
   "metadata": {},
   "outputs": [
    {
     "name": "stdout",
     "output_type": "stream",
     "text": [
      "Classification report: \n",
      "              precision    recall  f1-score   support\n",
      "\n",
      "           0       1.00      1.00      1.00      1996\n",
      "           1       1.00      1.00      1.00         4\n",
      "\n",
      "    accuracy                           1.00      2000\n",
      "   macro avg       1.00      1.00      1.00      2000\n",
      "weighted avg       1.00      1.00      1.00      2000\n",
      "\n",
      "Confusion Matrix: \n"
     ]
    },
    {
     "data": {
      "image/png": "[encoded data removed]",
      "text/plain": [
       "<Figure size 432x288 with 2 Axes>"
      ]
     },
     "metadata": {
      "needs_background": "light"
     },
     "output_type": "display_data"
    }
   ],
   "source": [
    "nb_clf = MultinomialNB(alpha=1)\n",
    "\n",
    "y_pred = create_classifier(nb_clf, X_train_balanced_us_20_normalized, y_train_balanced_us_20, \n",
    "                          X_val_normalized, y_val)\n",
    "\n",
    "print('Confusion Matrix: ')\n",
    "plot_confusion_matrix(nb_clf, X_val_normalized, y_val)"
   ]
  },
  {
   "cell_type": "markdown",
   "metadata": {},
   "source": [
    "Support Vector Machine"
   ]
  },
  {
   "cell_type": "code",
   "execution_count": 24,
   "metadata": {},
   "outputs": [
    {
     "name": "stdout",
     "output_type": "stream",
     "text": [
      "Classification report: \n",
      "              precision    recall  f1-score   support\n",
      "\n",
      "           0       1.00      1.00      1.00      1996\n",
      "           1       0.67      1.00      0.80         4\n",
      "\n",
      "    accuracy                           1.00      2000\n",
      "   macro avg       0.83      1.00      0.90      2000\n",
      "weighted avg       1.00      1.00      1.00      2000\n",
      "\n",
      "Confusion Matrix: \n"
     ]
    },
    {
     "data": {
      "image/png": "[encoded data removed]",
      "text/plain": [
       "<Figure size 432x288 with 2 Axes>"
      ]
     },
     "metadata": {
      "needs_background": "light"
     },
     "output_type": "display_data"
    }
   ],
   "source": [
    "svm_clf = SVC(kernel='poly', C=10, random_state=SEED_VAL)\n",
    "\n",
    "y_pred = create_classifier(svm_clf, X_train_balanced_us_20, y_train_balanced_us_20, \n",
    "                          X_val, y_val)\n",
    "\n",
    "print('Confusion Matrix: ')\n",
    "plot_confusion_matrix(svm_clf, X_val, y_val)"
   ]
  },
  {
   "cell_type": "markdown",
   "metadata": {},
   "source": [
    "Random Forest"
   ]
  },
  {
   "cell_type": "code",
   "execution_count": 25,
   "metadata": {},
   "outputs": [
    {
     "name": "stdout",
     "output_type": "stream",
     "text": [
      "Classification report: \n",
      "              precision    recall  f1-score   support\n",
      "\n",
      "           0       1.00      1.00      1.00      1996\n",
      "           1       0.80      1.00      0.89         4\n",
      "\n",
      "    accuracy                           1.00      2000\n",
      "   macro avg       0.90      1.00      0.94      2000\n",
      "weighted avg       1.00      1.00      1.00      2000\n",
      "\n",
      "Confusion Matrix: \n"
     ]
    },
    {
     "data": {
      "image/png": "[encoded data removed]",
      "text/plain": [
       "<Figure size 432x288 with 2 Axes>"
      ]
     },
     "metadata": {
      "needs_background": "light"
     },
     "output_type": "display_data"
    }
   ],
   "source": [
    "rf_clf = RandomForestClassifier(n_estimators=1000, min_samples_split=5, min_samples_leaf=2, max_features='auto', max_depth=100, criterion='entropy', random_state=SEED_VAL)\n",
    "\n",
    "y_pred = create_classifier(rf_clf, X_train_balanced_us_20, y_train_balanced_us_20, \n",
    "                          X_val, y_val)\n",
    "\n",
    "print('Confusion Matrix: ')\n",
    "plot_confusion_matrix(rf_clf, X_val, y_val)"
   ]
  },
  {
   "cell_type": "markdown",
   "metadata": {},
   "source": [
    "Multilayer Perceptron"
   ]
  },
  {
   "cell_type": "code",
   "execution_count": 26,
   "metadata": {},
   "outputs": [
    {
     "name": "stdout",
     "output_type": "stream",
     "text": [
      "Classification report: \n",
      "              precision    recall  f1-score   support\n",
      "\n",
      "           0       1.00      0.93      0.97      1996\n",
      "           1       0.03      1.00      0.06         4\n",
      "\n",
      "    accuracy                           0.93      2000\n",
      "   macro avg       0.51      0.97      0.51      2000\n",
      "weighted avg       1.00      0.93      0.96      2000\n",
      "\n",
      "Confusion Matrix: \n"
     ]
    },
    {
     "data": {
      "image/png": "[encoded data removed]",
      "text/plain": [
       "<Figure size 432x288 with 2 Axes>"
      ]
     },
     "metadata": {
      "needs_background": "light"
     },
     "output_type": "display_data"
    }
   ],
   "source": [
    "mlp_clf = MLPClassifier(solver='adam', learning_rate='constant', hidden_layer_sizes=(80,), alpha=0.0001, activation='tanh', random_state=SEED_VAL)\n",
    "\n",
    "y_pred = create_classifier(mlp_clf, X_train_balanced_us_20, y_train_balanced_us_20, \n",
    "                          X_val, y_val)\n",
    "\n",
    "print('Confusion Matrix: ')\n",
    "plot_confusion_matrix(mlp_clf, X_val, y_val)"
   ]
  },
  {
   "cell_type": "markdown",
   "metadata": {},
   "source": [
    "##### Classificate (30% fraud)"
   ]
  },
  {
   "cell_type": "markdown",
   "metadata": {},
   "source": [
    "Naive Bayes"
   ]
  },
  {
   "cell_type": "code",
   "execution_count": 27,
   "metadata": {},
   "outputs": [
    {
     "name": "stdout",
     "output_type": "stream",
     "text": [
      "Classification report: \n",
      "              precision    recall  f1-score   support\n",
      "\n",
      "           0       1.00      1.00      1.00      1996\n",
      "           1       0.67      1.00      0.80         4\n",
      "\n",
      "    accuracy                           1.00      2000\n",
      "   macro avg       0.83      1.00      0.90      2000\n",
      "weighted avg       1.00      1.00      1.00      2000\n",
      "\n",
      "Confusion Matrix: \n"
     ]
    },
    {
     "data": {
      "image/png": "[encoded data removed]",
      "text/plain": [
       "<Figure size 432x288 with 2 Axes>"
      ]
     },
     "metadata": {
      "needs_background": "light"
     },
     "output_type": "display_data"
    }
   ],
   "source": [
    "nb_clf = MultinomialNB(alpha=1)\n",
    "\n",
    "y_pred = create_classifier(nb_clf, X_train_balanced_us_30_normalized, y_train_balanced_us_30, \n",
    "                          X_val_normalized, y_val)\n",
    "\n",
    "print('Confusion Matrix: ')\n",
    "plot_confusion_matrix(nb_clf, X_val_normalized, y_val)"
   ]
  },
  {
   "cell_type": "markdown",
   "metadata": {},
   "source": [
    "Support Vector Machine"
   ]
  },
  {
   "cell_type": "code",
   "execution_count": 28,
   "metadata": {},
   "outputs": [
    {
     "name": "stdout",
     "output_type": "stream",
     "text": [
      "Classification report: \n",
      "              precision    recall  f1-score   support\n",
      "\n",
      "           0       1.00      1.00      1.00      1996\n",
      "           1       1.00      1.00      1.00         4\n",
      "\n",
      "    accuracy                           1.00      2000\n",
      "   macro avg       1.00      1.00      1.00      2000\n",
      "weighted avg       1.00      1.00      1.00      2000\n",
      "\n",
      "Confusion Matrix: \n"
     ]
    },
    {
     "data": {
      "image/png": "[encoded data removed]",
      "text/plain": [
       "<Figure size 432x288 with 2 Axes>"
      ]
     },
     "metadata": {
      "needs_background": "light"
     },
     "output_type": "display_data"
    }
   ],
   "source": [
    "svm_clf = SVC(kernel='poly', C=10, random_state=SEED_VAL)\n",
    "\n",
    "y_pred = create_classifier(svm_clf, X_train_balanced_us_30, y_train_balanced_us_30, \n",
    "                          X_val, y_val)\n",
    "\n",
    "print('Confusion Matrix: ')\n",
    "plot_confusion_matrix(svm_clf, X_val, y_val)"
   ]
  },
  {
   "cell_type": "markdown",
   "metadata": {},
   "source": [
    "Random Forest"
   ]
  },
  {
   "cell_type": "code",
   "execution_count": 29,
   "metadata": {},
   "outputs": [
    {
     "name": "stdout",
     "output_type": "stream",
     "text": [
      "Classification report: \n",
      "              precision    recall  f1-score   support\n",
      "\n",
      "           0       1.00      1.00      1.00      1996\n",
      "           1       0.80      1.00      0.89         4\n",
      "\n",
      "    accuracy                           1.00      2000\n",
      "   macro avg       0.90      1.00      0.94      2000\n",
      "weighted avg       1.00      1.00      1.00      2000\n",
      "\n",
      "Confusion Matrix: \n"
     ]
    },
    {
     "data": {
      "image/png": "[encoded data removed]",
      "text/plain": [
       "<Figure size 432x288 with 2 Axes>"
      ]
     },
     "metadata": {
      "needs_background": "light"
     },
     "output_type": "display_data"
    }
   ],
   "source": [
    "rf_clf = RandomForestClassifier(n_estimators=1000, min_samples_split=5, min_samples_leaf=2, max_features='auto', max_depth=100, criterion='entropy', random_state=SEED_VAL)\n",
    "\n",
    "y_pred = create_classifier(rf_clf, X_train_balanced_us_30, y_train_balanced_us_30, \n",
    "                          X_val, y_val)\n",
    "\n",
    "print('Confusion Matrix: ')\n",
    "plot_confusion_matrix(rf_clf, X_val, y_val)"
   ]
  },
  {
   "cell_type": "markdown",
   "metadata": {},
   "source": [
    "Multilayer Perceptron"
   ]
  },
  {
   "cell_type": "code",
   "execution_count": 30,
   "metadata": {},
   "outputs": [
    {
     "name": "stdout",
     "output_type": "stream",
     "text": [
      "Classification report: \n",
      "              precision    recall  f1-score   support\n",
      "\n",
      "           0       1.00      0.94      0.97      1996\n",
      "           1       0.03      1.00      0.07         4\n",
      "\n",
      "    accuracy                           0.94      2000\n",
      "   macro avg       0.52      0.97      0.52      2000\n",
      "weighted avg       1.00      0.94      0.97      2000\n",
      "\n",
      "Confusion Matrix: \n"
     ]
    },
    {
     "data": {
      "image/png": "[encoded data removed]",
      "text/plain": [
       "<Figure size 432x288 with 2 Axes>"
      ]
     },
     "metadata": {
      "needs_background": "light"
     },
     "output_type": "display_data"
    }
   ],
   "source": [
    "mlp_clf = MLPClassifier(solver='adam', learning_rate='constant', hidden_layer_sizes=(80,), alpha=0.0001, activation='tanh', random_state=SEED_VAL)\n",
    "\n",
    "y_pred = create_classifier(mlp_clf, X_train_balanced_us_30, y_train_balanced_us_30, \n",
    "                          X_val, y_val)\n",
    "\n",
    "print('Confusion Matrix: ')\n",
    "plot_confusion_matrix(mlp_clf, X_val, y_val)"
   ]
  },
  {
   "cell_type": "markdown",
   "metadata": {},
   "source": [
    "##### Classificate (40% fraud)"
   ]
  },
  {
   "cell_type": "markdown",
   "metadata": {},
   "source": [
    "Naive Bayes"
   ]
  },
  {
   "cell_type": "code",
   "execution_count": 31,
   "metadata": {},
   "outputs": [
    {
     "name": "stdout",
     "output_type": "stream",
     "text": [
      "Classification report: \n",
      "              precision    recall  f1-score   support\n",
      "\n",
      "           0       1.00      0.97      0.99      1996\n",
      "           1       0.07      1.00      0.13         4\n",
      "\n",
      "    accuracy                           0.97      2000\n",
      "   macro avg       0.53      0.99      0.56      2000\n",
      "weighted avg       1.00      0.97      0.98      2000\n",
      "\n",
      "Confusion Matrix: \n"
     ]
    },
    {
     "data": {
      "image/png": "[encoded data removed]",
      "text/plain": [
       "<Figure size 432x288 with 2 Axes>"
      ]
     },
     "metadata": {
      "needs_background": "light"
     },
     "output_type": "display_data"
    }
   ],
   "source": [
    "nb_clf = MultinomialNB(alpha=1)\n",
    "\n",
    "y_pred = create_classifier(nb_clf, X_train_balanced_us_40_normalized, y_train_balanced_us_40, \n",
    "                          X_val_normalized, y_val)\n",
    "\n",
    "print('Confusion Matrix: ')\n",
    "plot_confusion_matrix(nb_clf, X_val_normalized, y_val)"
   ]
  },
  {
   "cell_type": "markdown",
   "metadata": {},
   "source": [
    "Support Vector Machine"
   ]
  },
  {
   "cell_type": "code",
   "execution_count": 32,
   "metadata": {},
   "outputs": [
    {
     "name": "stdout",
     "output_type": "stream",
     "text": [
      "Classification report: \n",
      "              precision    recall  f1-score   support\n",
      "\n",
      "           0       1.00      1.00      1.00      1996\n",
      "           1       1.00      0.75      0.86         4\n",
      "\n",
      "    accuracy                           1.00      2000\n",
      "   macro avg       1.00      0.88      0.93      2000\n",
      "weighted avg       1.00      1.00      1.00      2000\n",
      "\n",
      "Confusion Matrix: \n"
     ]
    },
    {
     "data": {
      "image/png": "[encoded data removed]",
      "text/plain": [
       "<Figure size 432x288 with 2 Axes>"
      ]
     },
     "metadata": {
      "needs_background": "light"
     },
     "output_type": "display_data"
    }
   ],
   "source": [
    "svm_clf = SVC(kernel='poly', C=10, random_state=SEED_VAL)\n",
    "\n",
    "y_pred = create_classifier(svm_clf, X_train_balanced_us_40, y_train_balanced_us_40, \n",
    "                          X_val, y_val)\n",
    "\n",
    "print('Confusion Matrix: ')\n",
    "plot_confusion_matrix(svm_clf, X_val, y_val)"
   ]
  },
  {
   "cell_type": "markdown",
   "metadata": {},
   "source": [
    "Random Forest"
   ]
  },
  {
   "cell_type": "code",
   "execution_count": 33,
   "metadata": {},
   "outputs": [
    {
     "name": "stdout",
     "output_type": "stream",
     "text": [
      "Classification report: \n",
      "              precision    recall  f1-score   support\n",
      "\n",
      "           0       1.00      1.00      1.00      1996\n",
      "           1       0.67      1.00      0.80         4\n",
      "\n",
      "    accuracy                           1.00      2000\n",
      "   macro avg       0.83      1.00      0.90      2000\n",
      "weighted avg       1.00      1.00      1.00      2000\n",
      "\n",
      "Confusion Matrix: \n"
     ]
    },
    {
     "data": {
      "image/png": "[encoded data removed]",
      "text/plain": [
       "<Figure size 432x288 with 2 Axes>"
      ]
     },
     "metadata": {
      "needs_background": "light"
     },
     "output_type": "display_data"
    }
   ],
   "source": [
    "rf_clf = RandomForestClassifier(n_estimators=1000, min_samples_split=5, min_samples_leaf=2, max_features='auto', max_depth=100, criterion='entropy', random_state=SEED_VAL)\n",
    "\n",
    "y_pred = create_classifier(rf_clf, X_train_balanced_us_40, y_train_balanced_us_40, \n",
    "                          X_val, y_val)\n",
    "\n",
    "print('Confusion Matrix: ')\n",
    "plot_confusion_matrix(rf_clf, X_val, y_val)"
   ]
  },
  {
   "cell_type": "markdown",
   "metadata": {},
   "source": [
    "Multilayer Perceptron"
   ]
  },
  {
   "cell_type": "code",
   "execution_count": 34,
   "metadata": {},
   "outputs": [
    {
     "name": "stdout",
     "output_type": "stream",
     "text": [
      "Classification report: \n",
      "              precision    recall  f1-score   support\n",
      "\n",
      "           0       1.00      0.94      0.97      1996\n",
      "           1       0.02      0.75      0.04         4\n",
      "\n",
      "    accuracy                           0.94      2000\n",
      "   macro avg       0.51      0.84      0.51      2000\n",
      "weighted avg       1.00      0.94      0.97      2000\n",
      "\n",
      "Confusion Matrix: \n"
     ]
    },
    {
     "data": {
      "image/png": "[encoded data removed]",
      "text/plain": [
       "<Figure size 432x288 with 2 Axes>"
      ]
     },
     "metadata": {
      "needs_background": "light"
     },
     "output_type": "display_data"
    }
   ],
   "source": [
    "mlp_clf = MLPClassifier(solver='adam', learning_rate='constant', hidden_layer_sizes=(80,), alpha=0.0001, activation='tanh', random_state=SEED_VAL)\n",
    "\n",
    "y_pred = create_classifier(mlp_clf, X_train_balanced_us_40, y_train_balanced_us_40, \n",
    "                          X_val, y_val)\n",
    "\n",
    "print('Confusion Matrix: ')\n",
    "plot_confusion_matrix(mlp_clf, X_val, y_val)"
   ]
  },
  {
   "cell_type": "markdown",
   "metadata": {},
   "source": [
    "##### Classificate (50% fraud)"
   ]
  },
  {
   "cell_type": "markdown",
   "metadata": {},
   "source": [
    "Naive Bayes"
   ]
  },
  {
   "cell_type": "code",
   "execution_count": 35,
   "metadata": {},
   "outputs": [
    {
     "name": "stdout",
     "output_type": "stream",
     "text": [
      "Classification report: \n",
      "              precision    recall  f1-score   support\n",
      "\n",
      "           0       1.00      0.32      0.48      1996\n",
      "           1       0.00      1.00      0.01         4\n",
      "\n",
      "    accuracy                           0.32      2000\n",
      "   macro avg       0.50      0.66      0.24      2000\n",
      "weighted avg       1.00      0.32      0.48      2000\n",
      "\n",
      "Confusion Matrix: \n"
     ]
    },
    {
     "data": {
      "image/png": "[encoded data removed]",
      "text/plain": [
       "<Figure size 432x288 with 2 Axes>"
      ]
     },
     "metadata": {
      "needs_background": "light"
     },
     "output_type": "display_data"
    }
   ],
   "source": [
    "nb_clf = MultinomialNB(alpha=1)\n",
    "\n",
    "y_pred = create_classifier(nb_clf, X_train_balanced_us_50_normalized, y_train_balanced_us_50, \n",
    "                          X_val_normalized, y_val)\n",
    "\n",
    "print('Confusion Matrix: ')\n",
    "plot_confusion_matrix(nb_clf, X_val_normalized, y_val)"
   ]
  },
  {
   "cell_type": "markdown",
   "metadata": {},
   "source": [
    "Support Vector Machine"
   ]
  },
  {
   "cell_type": "code",
   "execution_count": 36,
   "metadata": {},
   "outputs": [
    {
     "name": "stdout",
     "output_type": "stream",
     "text": [
      "Classification report: \n",
      "              precision    recall  f1-score   support\n",
      "\n",
      "           0       1.00      1.00      1.00      1996\n",
      "           1       1.00      0.75      0.86         4\n",
      "\n",
      "    accuracy                           1.00      2000\n",
      "   macro avg       1.00      0.88      0.93      2000\n",
      "weighted avg       1.00      1.00      1.00      2000\n",
      "\n",
      "Confusion Matrix: \n"
     ]
    },
    {
     "data": {
      "image/png": "[encoded data removed]",
      "text/plain": [
       "<Figure size 432x288 with 2 Axes>"
      ]
     },
     "metadata": {
      "needs_background": "light"
     },
     "output_type": "display_data"
    }
   ],
   "source": [
    "svm_clf = SVC(kernel='poly', C=10, random_state=SEED_VAL)\n",
    "\n",
    "y_pred = create_classifier(svm_clf, X_train_balanced_us_50, y_train_balanced_us_50, \n",
    "                          X_val, y_val)\n",
    "\n",
    "print('Confusion Matrix: ')\n",
    "plot_confusion_matrix(svm_clf, X_val, y_val)"
   ]
  },
  {
   "cell_type": "markdown",
   "metadata": {},
   "source": [
    "Random Forest"
   ]
  },
  {
   "cell_type": "code",
   "execution_count": 37,
   "metadata": {},
   "outputs": [
    {
     "name": "stdout",
     "output_type": "stream",
     "text": [
      "Classification report: \n",
      "              precision    recall  f1-score   support\n",
      "\n",
      "           0       1.00      1.00      1.00      1996\n",
      "           1       0.67      1.00      0.80         4\n",
      "\n",
      "    accuracy                           1.00      2000\n",
      "   macro avg       0.83      1.00      0.90      2000\n",
      "weighted avg       1.00      1.00      1.00      2000\n",
      "\n",
      "Confusion Matrix: \n"
     ]
    },
    {
     "data": {
      "image/png": "[encoded data removed]",
      "text/plain": [
       "<Figure size 432x288 with 2 Axes>"
      ]
     },
     "metadata": {
      "needs_background": "light"
     },
     "output_type": "display_data"
    }
   ],
   "source": [
    "rf_clf = RandomForestClassifier(n_estimators=1000, min_samples_split=5, min_samples_leaf=2, max_features='auto', max_depth=100, criterion='entropy', random_state=SEED_VAL)\n",
    "\n",
    "y_pred = create_classifier(rf_clf, X_train_balanced_us_50, y_train_balanced_us_50, \n",
    "                          X_val, y_val)\n",
    "\n",
    "print('Confusion Matrix: ')\n",
    "plot_confusion_matrix(rf_clf, X_val, y_val)"
   ]
  },
  {
   "cell_type": "markdown",
   "metadata": {},
   "source": [
    "Multilayer Perceptron"
   ]
  },
  {
   "cell_type": "code",
   "execution_count": 38,
   "metadata": {},
   "outputs": [
    {
     "name": "stdout",
     "output_type": "stream",
     "text": [
      "Classification report: \n",
      "              precision    recall  f1-score   support\n",
      "\n",
      "           0       1.00      0.90      0.95      1996\n",
      "           1       0.02      1.00      0.04         4\n",
      "\n",
      "    accuracy                           0.90      2000\n",
      "   macro avg       0.51      0.95      0.49      2000\n",
      "weighted avg       1.00      0.90      0.95      2000\n",
      "\n",
      "Confusion Matrix: \n"
     ]
    },
    {
     "data": {
      "image/png": "[encoded data removed]",
      "text/plain": [
       "<Figure size 432x288 with 2 Axes>"
      ]
     },
     "metadata": {
      "needs_background": "light"
     },
     "output_type": "display_data"
    }
   ],
   "source": [
    "mlp_clf = MLPClassifier(solver='adam', learning_rate='constant', hidden_layer_sizes=(80,), alpha=0.0001, activation='tanh', random_state=SEED_VAL)\n",
    "\n",
    "y_pred = create_classifier(mlp_clf, X_train_balanced_us_50, y_train_balanced_us_50, \n",
    "                          X_val, y_val)\n",
    "\n",
    "print('Confusion Matrix: ')\n",
    "plot_confusion_matrix(mlp_clf, X_val, y_val)"
   ]
  },
  {
   "cell_type": "markdown",
   "metadata": {},
   "source": [
    "## Classification"
   ]
  },
  {
   "cell_type": "markdown",
   "metadata": {},
   "source": [
    "### Balance dataset"
   ]
  },
  {
   "cell_type": "code",
   "execution_count": 45,
   "metadata": {},
   "outputs": [
    {
     "name": "stdout",
     "output_type": "stream",
     "text": [
      "40%:\n",
      "X_train.shape (9965, 28)\n"
     ]
    }
   ],
   "source": [
    "X_train_balanced_40, y_train_balanced_40 = balance_dataset('oversampling', X_train, y_train, 0.667) # 40% fraud\n",
    "\n",
    "print('40%:')\n",
    "print('X_train.shape', X_train_balanced_40.shape)"
   ]
  },
  {
   "cell_type": "markdown",
   "metadata": {},
   "source": [
    "### Normalize data for Naive Bayes"
   ]
  },
  {
   "cell_type": "code",
   "execution_count": 52,
   "metadata": {},
   "outputs": [],
   "source": [
    "scaler = MinMaxScaler()\n",
    "\n",
    "X_train_balanced_40_normalized = scaler.fit(X_train_balanced_40).transform(X_train_balanced_40)\n",
    "X_test_normalized = scaler.fit(X_test).transform(X_test)"
   ]
  },
  {
   "cell_type": "markdown",
   "metadata": {},
   "source": [
    "### Classificate"
   ]
  },
  {
   "cell_type": "markdown",
   "metadata": {},
   "source": [
    "#### Naive Bayes"
   ]
  },
  {
   "cell_type": "code",
   "execution_count": 53,
   "metadata": {},
   "outputs": [
    {
     "name": "stdout",
     "output_type": "stream",
     "text": [
      "Classification report: \n",
      "              precision    recall  f1-score   support\n",
      "\n",
      "           0       1.00      1.00      1.00      1988\n",
      "           1       1.00      0.67      0.80        12\n",
      "\n",
      "    accuracy                           1.00      2000\n",
      "   macro avg       1.00      0.83      0.90      2000\n",
      "weighted avg       1.00      1.00      1.00      2000\n",
      "\n",
      "Confusion Matrix: \n"
     ]
    },
    {
     "data": {
      "image/png": "[encoded data removed]",
      "text/plain": [
       "<Figure size 432x288 with 2 Axes>"
      ]
     },
     "metadata": {
      "needs_background": "light"
     },
     "output_type": "display_data"
    }
   ],
   "source": [
    "nb_clf = MultinomialNB(alpha=1)\n",
    "\n",
    "y_pred = create_classifier(nb_clf, X_train_balanced_40_normalized, y_train_balanced_40, \n",
    "                          X_test_normalized, y_test)\n",
    "\n",
    "print('Confusion Matrix: ')\n",
    "plot_confusion_matrix(nb_clf, X_test_normalized, y_test)"
   ]
  },
  {
   "cell_type": "markdown",
   "metadata": {},
   "source": [
    "#### Support Vector Machine"
   ]
  },
  {
   "cell_type": "code",
   "execution_count": 54,
   "metadata": {},
   "outputs": [
    {
     "name": "stdout",
     "output_type": "stream",
     "text": [
      "Classification report: \n",
      "              precision    recall  f1-score   support\n",
      "\n",
      "           0       1.00      1.00      1.00      1988\n",
      "           1       1.00      0.83      0.91        12\n",
      "\n",
      "    accuracy                           1.00      2000\n",
      "   macro avg       1.00      0.92      0.95      2000\n",
      "weighted avg       1.00      1.00      1.00      2000\n",
      "\n",
      "Confusion Matrix: \n"
     ]
    },
    {
     "data": {
      "image/png": "[encoded data removed]",
      "text/plain": [
       "<Figure size 432x288 with 2 Axes>"
      ]
     },
     "metadata": {
      "needs_background": "light"
     },
     "output_type": "display_data"
    }
   ],
   "source": [
    "svm_clf = SVC(kernel='poly', C=10, random_state=SEED_VAL)\n",
    "\n",
    "y_pred = create_classifier(svm_clf, X_train_balanced_40, y_train_balanced_40, \n",
    "                          X_test, y_test)\n",
    "\n",
    "print('Confusion Matrix: ')\n",
    "plot_confusion_matrix(svm_clf, X_test, y_test)"
   ]
  },
  {
   "cell_type": "markdown",
   "metadata": {},
   "source": [
    "#### Random Forest"
   ]
  },
  {
   "cell_type": "code",
   "execution_count": 55,
   "metadata": {},
   "outputs": [
    {
     "name": "stdout",
     "output_type": "stream",
     "text": [
      "Classification report: \n",
      "              precision    recall  f1-score   support\n",
      "\n",
      "           0       1.00      1.00      1.00      1988\n",
      "           1       1.00      0.83      0.91        12\n",
      "\n",
      "    accuracy                           1.00      2000\n",
      "   macro avg       1.00      0.92      0.95      2000\n",
      "weighted avg       1.00      1.00      1.00      2000\n",
      "\n",
      "Confusion Matrix: \n"
     ]
    },
    {
     "data": {
      "image/png": "[encoded data removed]",
      "text/plain": [
       "<Figure size 432x288 with 2 Axes>"
      ]
     },
     "metadata": {
      "needs_background": "light"
     },
     "output_type": "display_data"
    }
   ],
   "source": [
    "rf_clf = RandomForestClassifier(n_estimators=1000, min_samples_split=5, min_samples_leaf=2, max_features='auto', max_depth=100, criterion='entropy', random_state=SEED_VAL)\n",
    "\n",
    "y_pred = create_classifier(rf_clf, X_train_balanced_40, y_train_balanced_40, \n",
    "                          X_test, y_test)\n",
    "\n",
    "print('Confusion Matrix: ')\n",
    "plot_confusion_matrix(rf_clf, X_test, y_test)"
   ]
  },
  {
   "cell_type": "markdown",
   "metadata": {},
   "source": [
    "#### Multilayer Perceptron"
   ]
  },
  {
   "cell_type": "code",
   "execution_count": 56,
   "metadata": {},
   "outputs": [
    {
     "name": "stdout",
     "output_type": "stream",
     "text": [
      "Classification report: \n",
      "              precision    recall  f1-score   support\n",
      "\n",
      "           0       1.00      1.00      1.00      1988\n",
      "           1       0.91      0.83      0.87        12\n",
      "\n",
      "    accuracy                           1.00      2000\n",
      "   macro avg       0.95      0.92      0.93      2000\n",
      "weighted avg       1.00      1.00      1.00      2000\n",
      "\n",
      "Confusion Matrix: \n"
     ]
    },
    {
     "data": {
      "image/png": "[encoded data removed]",
      "text/plain": [
       "<Figure size 432x288 with 2 Axes>"
      ]
     },
     "metadata": {
      "needs_background": "light"
     },
     "output_type": "display_data"
    }
   ],
   "source": [
    "mlp_clf = MLPClassifier(solver='adam', learning_rate='constant', hidden_layer_sizes=(80,), alpha=0.0001, activation='tanh', random_state=SEED_VAL)\n",
    "\n",
    "y_pred = create_classifier(mlp_clf, X_train_balanced_40, y_train_balanced_40, \n",
    "                          X_test, y_test)\n",
    "\n",
    "print('Confusion Matrix: ')\n",
    "plot_confusion_matrix(mlp_clf, X_test, y_test)"
   ]
  }
 ],
 "metadata": {
  "interpreter": {
   "hash": "916dbcbb3f70747c44a77c7bcd40155683ae19c65e1c03b4aa3499c5328201f1"
  },
  "kernelspec": {
   "display_name": "Python 3.8.10 64-bit",
   "language": "python",
   "name": "python3"
  },
  "language_info": {
   "codemirror_mode": {
    "name": "ipython",
    "version": 3
   },
   "file_extension": ".py",
   "mimetype": "text/x-python",
   "name": "python",
   "nbconvert_exporter": "python",
   "pygments_lexer": "ipython3",
   "version": "3.8.10"
  },
  "orig_nbformat": 4
 },
 "nbformat": 4,
 "nbformat_minor": 2
}
